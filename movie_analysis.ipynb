{
 "cells": [
  {
   "cell_type": "markdown",
   "metadata": {},
   "source": [
    "# Microsoft Movie Analysis\n",
    "\n",
    "**Authors:** Elena Burlando\n"
   ]
  },
  {
   "cell_type": "markdown",
   "metadata": {},
   "source": [
    "## Overview\n",
    "\n",
    "The objective of this project is to analyze movie data to provide insights to Microsoft company on movie types that have performed best in the past decade. For this project we will be using data from imdb source. Data contains movie titles, genres, ratings, number of votes, and gross income made of movies from 2010 through 2019.\n",
    "\n",
    "As an outcome of this analysis we are hoping to get: \n",
    "* Top 10 most popular genres during 2010-2019. \n",
    "* Top 2 most popular genres for each year.\n",
    "* Top 10 highest rated genres during 2010-2019.\n",
    "* Top 10 highest rated movies during 2010-2019.\n",
    "* Top 2 highest rated movies for each year. \n",
    "* Correlation between ratings and number of votes. \n",
    "* Movies/genres with the highest domestic gross income. \n",
    "* Movies/genres with the highest foreign gross income.\n",
    "* Correlation between domestic and foreign gross income.\n",
    "* (API) Movies/genres with the highest ROI (return on investment). \n",
    "\n",
    "(A one-paragraph overview of the project, including the business problem, data, methods, results and recommendations.)"
   ]
  },
  {
   "cell_type": "markdown",
   "metadata": {},
   "source": [
    "## Business Problem\n",
    "\n",
    "Microsoft as many other tech companies have already is considering setting up a movie studio. This project is aiming to provide valuable information to the head of Microsoft's new movie studio in terms of: \n",
    "* What top 10 genres are performing best?\n",
    "* What movie types are the most profitable? \n",
    "* \n",
    "\n",
    "***\n",
    "Questions to consider:\n",
    "* What are the business's pain points related to this project?\n",
    "* How did you pick the data analysis question(s) that you did?\n",
    "* Why are these questions important from a business perspective?\n",
    "***"
   ]
  },
  {
   "cell_type": "markdown",
   "metadata": {},
   "source": [
    "## Data Understanding\n",
    "\n",
    "Describe the data being used for this project.\n",
    "***\n",
    "Questions to consider:\n",
    "* Where did the data come from, and how do they relate to the data analysis questions?\n",
    "* What do the data represent? Who is in the sample and what variables are included?\n",
    "* What is the target variable?\n",
    "* What are the properties of the variables you intend to use?\n",
    "***"
   ]
  },
  {
   "cell_type": "code",
   "execution_count": 1,
   "metadata": {},
   "outputs": [],
   "source": [
    "# Import standard packages\n",
    "import pandas as pd\n",
    "import numpy as np\n",
    "import matplotlib.pyplot as plt\n",
    "import seaborn as sns\n",
    "\n",
    "%matplotlib inline"
   ]
  },
  {
   "cell_type": "markdown",
   "metadata": {},
   "source": [
    "##imdb title basics"
   ]
  },
  {
   "cell_type": "code",
   "execution_count": 2,
   "metadata": {
    "scrolled": true
   },
   "outputs": [
    {
     "data": {
      "text/html": [
       "<div>\n",
       "<style scoped>\n",
       "    .dataframe tbody tr th:only-of-type {\n",
       "        vertical-align: middle;\n",
       "    }\n",
       "\n",
       "    .dataframe tbody tr th {\n",
       "        vertical-align: top;\n",
       "    }\n",
       "\n",
       "    .dataframe thead th {\n",
       "        text-align: right;\n",
       "    }\n",
       "</style>\n",
       "<table border=\"1\" class=\"dataframe\">\n",
       "  <thead>\n",
       "    <tr style=\"text-align: right;\">\n",
       "      <th></th>\n",
       "      <th>tconst</th>\n",
       "      <th>primary_title</th>\n",
       "      <th>original_title</th>\n",
       "      <th>start_year</th>\n",
       "      <th>runtime_minutes</th>\n",
       "      <th>genres</th>\n",
       "    </tr>\n",
       "  </thead>\n",
       "  <tbody>\n",
       "    <tr>\n",
       "      <th>0</th>\n",
       "      <td>tt0063540</td>\n",
       "      <td>Sunghursh</td>\n",
       "      <td>Sunghursh</td>\n",
       "      <td>2013</td>\n",
       "      <td>175.0</td>\n",
       "      <td>Action,Crime,Drama</td>\n",
       "    </tr>\n",
       "    <tr>\n",
       "      <th>1</th>\n",
       "      <td>tt0066787</td>\n",
       "      <td>One Day Before the Rainy Season</td>\n",
       "      <td>Ashad Ka Ek Din</td>\n",
       "      <td>2019</td>\n",
       "      <td>114.0</td>\n",
       "      <td>Biography,Drama</td>\n",
       "    </tr>\n",
       "    <tr>\n",
       "      <th>2</th>\n",
       "      <td>tt0069049</td>\n",
       "      <td>The Other Side of the Wind</td>\n",
       "      <td>The Other Side of the Wind</td>\n",
       "      <td>2018</td>\n",
       "      <td>122.0</td>\n",
       "      <td>Drama</td>\n",
       "    </tr>\n",
       "    <tr>\n",
       "      <th>3</th>\n",
       "      <td>tt0069204</td>\n",
       "      <td>Sabse Bada Sukh</td>\n",
       "      <td>Sabse Bada Sukh</td>\n",
       "      <td>2018</td>\n",
       "      <td>NaN</td>\n",
       "      <td>Comedy,Drama</td>\n",
       "    </tr>\n",
       "    <tr>\n",
       "      <th>4</th>\n",
       "      <td>tt0100275</td>\n",
       "      <td>The Wandering Soap Opera</td>\n",
       "      <td>La Telenovela Errante</td>\n",
       "      <td>2017</td>\n",
       "      <td>80.0</td>\n",
       "      <td>Comedy,Drama,Fantasy</td>\n",
       "    </tr>\n",
       "  </tbody>\n",
       "</table>\n",
       "</div>"
      ],
      "text/plain": [
       "      tconst                    primary_title              original_title  \\\n",
       "0  tt0063540                        Sunghursh                   Sunghursh   \n",
       "1  tt0066787  One Day Before the Rainy Season             Ashad Ka Ek Din   \n",
       "2  tt0069049       The Other Side of the Wind  The Other Side of the Wind   \n",
       "3  tt0069204                  Sabse Bada Sukh             Sabse Bada Sukh   \n",
       "4  tt0100275         The Wandering Soap Opera       La Telenovela Errante   \n",
       "\n",
       "   start_year  runtime_minutes                genres  \n",
       "0        2013            175.0    Action,Crime,Drama  \n",
       "1        2019            114.0       Biography,Drama  \n",
       "2        2018            122.0                 Drama  \n",
       "3        2018              NaN          Comedy,Drama  \n",
       "4        2017             80.0  Comedy,Drama,Fantasy  "
      ]
     },
     "execution_count": 2,
     "metadata": {},
     "output_type": "execute_result"
    }
   ],
   "source": [
    "# Here you run your code to explore the data\n",
    "imdb_title_basics=pd.read_csv('data/zippedData/imdb.title.basics.csv.gz')\n",
    "imdb_title_basics.head()"
   ]
  },
  {
   "cell_type": "code",
   "execution_count": 3,
   "metadata": {},
   "outputs": [
    {
     "data": {
      "text/plain": [
       "(146144, 6)"
      ]
     },
     "execution_count": 3,
     "metadata": {},
     "output_type": "execute_result"
    }
   ],
   "source": [
    "imdb_title_basics.shape"
   ]
  },
  {
   "cell_type": "code",
   "execution_count": 4,
   "metadata": {
    "scrolled": true
   },
   "outputs": [
    {
     "name": "stdout",
     "output_type": "stream",
     "text": [
      "<class 'pandas.core.frame.DataFrame'>\n",
      "RangeIndex: 146144 entries, 0 to 146143\n",
      "Data columns (total 6 columns):\n",
      " #   Column           Non-Null Count   Dtype  \n",
      "---  ------           --------------   -----  \n",
      " 0   tconst           146144 non-null  object \n",
      " 1   primary_title    146144 non-null  object \n",
      " 2   original_title   146123 non-null  object \n",
      " 3   start_year       146144 non-null  int64  \n",
      " 4   runtime_minutes  114405 non-null  float64\n",
      " 5   genres           140736 non-null  object \n",
      "dtypes: float64(1), int64(1), object(4)\n",
      "memory usage: 6.7+ MB\n"
     ]
    }
   ],
   "source": [
    "imdb_title_basics.info()"
   ]
  },
  {
   "cell_type": "code",
   "execution_count": 5,
   "metadata": {
    "scrolled": false
   },
   "outputs": [
    {
     "data": {
      "text/html": [
       "<div>\n",
       "<style scoped>\n",
       "    .dataframe tbody tr th:only-of-type {\n",
       "        vertical-align: middle;\n",
       "    }\n",
       "\n",
       "    .dataframe tbody tr th {\n",
       "        vertical-align: top;\n",
       "    }\n",
       "\n",
       "    .dataframe thead th {\n",
       "        text-align: right;\n",
       "    }\n",
       "</style>\n",
       "<table border=\"1\" class=\"dataframe\">\n",
       "  <thead>\n",
       "    <tr style=\"text-align: right;\">\n",
       "      <th></th>\n",
       "      <th>start_year</th>\n",
       "      <th>runtime_minutes</th>\n",
       "    </tr>\n",
       "  </thead>\n",
       "  <tbody>\n",
       "    <tr>\n",
       "      <th>count</th>\n",
       "      <td>146144.000000</td>\n",
       "      <td>114405.000000</td>\n",
       "    </tr>\n",
       "    <tr>\n",
       "      <th>mean</th>\n",
       "      <td>2014.621798</td>\n",
       "      <td>86.187247</td>\n",
       "    </tr>\n",
       "    <tr>\n",
       "      <th>std</th>\n",
       "      <td>2.733583</td>\n",
       "      <td>166.360590</td>\n",
       "    </tr>\n",
       "    <tr>\n",
       "      <th>min</th>\n",
       "      <td>2010.000000</td>\n",
       "      <td>1.000000</td>\n",
       "    </tr>\n",
       "    <tr>\n",
       "      <th>25%</th>\n",
       "      <td>2012.000000</td>\n",
       "      <td>70.000000</td>\n",
       "    </tr>\n",
       "    <tr>\n",
       "      <th>50%</th>\n",
       "      <td>2015.000000</td>\n",
       "      <td>87.000000</td>\n",
       "    </tr>\n",
       "    <tr>\n",
       "      <th>75%</th>\n",
       "      <td>2017.000000</td>\n",
       "      <td>99.000000</td>\n",
       "    </tr>\n",
       "    <tr>\n",
       "      <th>max</th>\n",
       "      <td>2115.000000</td>\n",
       "      <td>51420.000000</td>\n",
       "    </tr>\n",
       "  </tbody>\n",
       "</table>\n",
       "</div>"
      ],
      "text/plain": [
       "          start_year  runtime_minutes\n",
       "count  146144.000000    114405.000000\n",
       "mean     2014.621798        86.187247\n",
       "std         2.733583       166.360590\n",
       "min      2010.000000         1.000000\n",
       "25%      2012.000000        70.000000\n",
       "50%      2015.000000        87.000000\n",
       "75%      2017.000000        99.000000\n",
       "max      2115.000000     51420.000000"
      ]
     },
     "execution_count": 5,
     "metadata": {},
     "output_type": "execute_result"
    }
   ],
   "source": [
    "imdb_title_basics.describe()"
   ]
  },
  {
   "cell_type": "markdown",
   "metadata": {},
   "source": [
    "##imdb.title.ratings\n"
   ]
  },
  {
   "cell_type": "code",
   "execution_count": 6,
   "metadata": {
    "scrolled": true
   },
   "outputs": [
    {
     "data": {
      "text/html": [
       "<div>\n",
       "<style scoped>\n",
       "    .dataframe tbody tr th:only-of-type {\n",
       "        vertical-align: middle;\n",
       "    }\n",
       "\n",
       "    .dataframe tbody tr th {\n",
       "        vertical-align: top;\n",
       "    }\n",
       "\n",
       "    .dataframe thead th {\n",
       "        text-align: right;\n",
       "    }\n",
       "</style>\n",
       "<table border=\"1\" class=\"dataframe\">\n",
       "  <thead>\n",
       "    <tr style=\"text-align: right;\">\n",
       "      <th></th>\n",
       "      <th>tconst</th>\n",
       "      <th>averagerating</th>\n",
       "      <th>numvotes</th>\n",
       "    </tr>\n",
       "  </thead>\n",
       "  <tbody>\n",
       "    <tr>\n",
       "      <th>0</th>\n",
       "      <td>tt10356526</td>\n",
       "      <td>8.3</td>\n",
       "      <td>31</td>\n",
       "    </tr>\n",
       "    <tr>\n",
       "      <th>1</th>\n",
       "      <td>tt10384606</td>\n",
       "      <td>8.9</td>\n",
       "      <td>559</td>\n",
       "    </tr>\n",
       "    <tr>\n",
       "      <th>2</th>\n",
       "      <td>tt1042974</td>\n",
       "      <td>6.4</td>\n",
       "      <td>20</td>\n",
       "    </tr>\n",
       "    <tr>\n",
       "      <th>3</th>\n",
       "      <td>tt1043726</td>\n",
       "      <td>4.2</td>\n",
       "      <td>50352</td>\n",
       "    </tr>\n",
       "    <tr>\n",
       "      <th>4</th>\n",
       "      <td>tt1060240</td>\n",
       "      <td>6.5</td>\n",
       "      <td>21</td>\n",
       "    </tr>\n",
       "  </tbody>\n",
       "</table>\n",
       "</div>"
      ],
      "text/plain": [
       "       tconst  averagerating  numvotes\n",
       "0  tt10356526            8.3        31\n",
       "1  tt10384606            8.9       559\n",
       "2   tt1042974            6.4        20\n",
       "3   tt1043726            4.2     50352\n",
       "4   tt1060240            6.5        21"
      ]
     },
     "execution_count": 6,
     "metadata": {},
     "output_type": "execute_result"
    }
   ],
   "source": [
    "imdb_title_ratings=pd.read_csv('data/zippedData/imdb.title.ratings.csv.gz')\n",
    "imdb_title_ratings.head()"
   ]
  },
  {
   "cell_type": "code",
   "execution_count": 7,
   "metadata": {},
   "outputs": [
    {
     "data": {
      "text/plain": [
       "(73856, 3)"
      ]
     },
     "execution_count": 7,
     "metadata": {},
     "output_type": "execute_result"
    }
   ],
   "source": [
    "imdb_title_ratings.shape"
   ]
  },
  {
   "cell_type": "markdown",
   "metadata": {},
   "source": [
    "##bom.movie_gross\n"
   ]
  },
  {
   "cell_type": "code",
   "execution_count": 8,
   "metadata": {},
   "outputs": [
    {
     "data": {
      "text/html": [
       "<div>\n",
       "<style scoped>\n",
       "    .dataframe tbody tr th:only-of-type {\n",
       "        vertical-align: middle;\n",
       "    }\n",
       "\n",
       "    .dataframe tbody tr th {\n",
       "        vertical-align: top;\n",
       "    }\n",
       "\n",
       "    .dataframe thead th {\n",
       "        text-align: right;\n",
       "    }\n",
       "</style>\n",
       "<table border=\"1\" class=\"dataframe\">\n",
       "  <thead>\n",
       "    <tr style=\"text-align: right;\">\n",
       "      <th></th>\n",
       "      <th>title</th>\n",
       "      <th>studio</th>\n",
       "      <th>domestic_gross</th>\n",
       "      <th>foreign_gross</th>\n",
       "      <th>year</th>\n",
       "    </tr>\n",
       "  </thead>\n",
       "  <tbody>\n",
       "    <tr>\n",
       "      <th>0</th>\n",
       "      <td>Toy Story 3</td>\n",
       "      <td>BV</td>\n",
       "      <td>415000000.0</td>\n",
       "      <td>652000000</td>\n",
       "      <td>2010</td>\n",
       "    </tr>\n",
       "    <tr>\n",
       "      <th>1</th>\n",
       "      <td>Alice in Wonderland (2010)</td>\n",
       "      <td>BV</td>\n",
       "      <td>334200000.0</td>\n",
       "      <td>691300000</td>\n",
       "      <td>2010</td>\n",
       "    </tr>\n",
       "    <tr>\n",
       "      <th>2</th>\n",
       "      <td>Harry Potter and the Deathly Hallows Part 1</td>\n",
       "      <td>WB</td>\n",
       "      <td>296000000.0</td>\n",
       "      <td>664300000</td>\n",
       "      <td>2010</td>\n",
       "    </tr>\n",
       "    <tr>\n",
       "      <th>3</th>\n",
       "      <td>Inception</td>\n",
       "      <td>WB</td>\n",
       "      <td>292600000.0</td>\n",
       "      <td>535700000</td>\n",
       "      <td>2010</td>\n",
       "    </tr>\n",
       "    <tr>\n",
       "      <th>4</th>\n",
       "      <td>Shrek Forever After</td>\n",
       "      <td>P/DW</td>\n",
       "      <td>238700000.0</td>\n",
       "      <td>513900000</td>\n",
       "      <td>2010</td>\n",
       "    </tr>\n",
       "  </tbody>\n",
       "</table>\n",
       "</div>"
      ],
      "text/plain": [
       "                                         title studio  domestic_gross  \\\n",
       "0                                  Toy Story 3     BV     415000000.0   \n",
       "1                   Alice in Wonderland (2010)     BV     334200000.0   \n",
       "2  Harry Potter and the Deathly Hallows Part 1     WB     296000000.0   \n",
       "3                                    Inception     WB     292600000.0   \n",
       "4                          Shrek Forever After   P/DW     238700000.0   \n",
       "\n",
       "  foreign_gross  year  \n",
       "0     652000000  2010  \n",
       "1     691300000  2010  \n",
       "2     664300000  2010  \n",
       "3     535700000  2010  \n",
       "4     513900000  2010  "
      ]
     },
     "execution_count": 8,
     "metadata": {},
     "output_type": "execute_result"
    }
   ],
   "source": [
    "bom_movie_gross=pd.read_csv('data/zippedData/bom.movie_gross.csv.gz')\n",
    "bom_movie_gross.head() "
   ]
  },
  {
   "cell_type": "code",
   "execution_count": 9,
   "metadata": {},
   "outputs": [
    {
     "data": {
      "text/plain": [
       "(3387, 5)"
      ]
     },
     "execution_count": 9,
     "metadata": {},
     "output_type": "execute_result"
    }
   ],
   "source": [
    "bom_movie_gross.shape"
   ]
  },
  {
   "cell_type": "code",
   "execution_count": 10,
   "metadata": {
    "scrolled": true
   },
   "outputs": [
    {
     "name": "stdout",
     "output_type": "stream",
     "text": [
      "<class 'pandas.core.frame.DataFrame'>\n",
      "RangeIndex: 3387 entries, 0 to 3386\n",
      "Data columns (total 5 columns):\n",
      " #   Column          Non-Null Count  Dtype  \n",
      "---  ------          --------------  -----  \n",
      " 0   title           3387 non-null   object \n",
      " 1   studio          3382 non-null   object \n",
      " 2   domestic_gross  3359 non-null   float64\n",
      " 3   foreign_gross   2037 non-null   object \n",
      " 4   year            3387 non-null   int64  \n",
      "dtypes: float64(1), int64(1), object(3)\n",
      "memory usage: 132.4+ KB\n"
     ]
    }
   ],
   "source": [
    "bom_movie_gross.info()"
   ]
  },
  {
   "cell_type": "code",
   "execution_count": 11,
   "metadata": {
    "scrolled": true
   },
   "outputs": [],
   "source": [
    "bom_movie_gross_dropped_na = bom_movie_gross.dropna()"
   ]
  },
  {
   "cell_type": "code",
   "execution_count": 12,
   "metadata": {
    "scrolled": true
   },
   "outputs": [
    {
     "name": "stdout",
     "output_type": "stream",
     "text": [
      "<class 'pandas.core.frame.DataFrame'>\n",
      "Int64Index: 2007 entries, 0 to 3353\n",
      "Data columns (total 5 columns):\n",
      " #   Column          Non-Null Count  Dtype  \n",
      "---  ------          --------------  -----  \n",
      " 0   title           2007 non-null   object \n",
      " 1   studio          2007 non-null   object \n",
      " 2   domestic_gross  2007 non-null   float64\n",
      " 3   foreign_gross   2007 non-null   object \n",
      " 4   year            2007 non-null   int64  \n",
      "dtypes: float64(1), int64(1), object(3)\n",
      "memory usage: 94.1+ KB\n"
     ]
    }
   ],
   "source": [
    "bom_movie_gross_dropped_na.info()"
   ]
  },
  {
   "cell_type": "code",
   "execution_count": 13,
   "metadata": {
    "scrolled": true
   },
   "outputs": [
    {
     "name": "stderr",
     "output_type": "stream",
     "text": [
      "/Users/elenaburlando/opt/anaconda3/envs/learn-env/lib/python3.8/site-packages/pandas/core/series.py:4563: SettingWithCopyWarning: \n",
      "A value is trying to be set on a copy of a slice from a DataFrame\n",
      "\n",
      "See the caveats in the documentation: https://pandas.pydata.org/pandas-docs/stable/user_guide/indexing.html#returning-a-view-versus-a-copy\n",
      "  return super().replace(\n",
      "<ipython-input-13-b9f4089ecee5>:1: SettingWithCopyWarning: \n",
      "A value is trying to be set on a copy of a slice from a DataFrame.\n",
      "Try using .loc[row_indexer,col_indexer] = value instead\n",
      "\n",
      "See the caveats in the documentation: https://pandas.pydata.org/pandas-docs/stable/user_guide/indexing.html#returning-a-view-versus-a-copy\n",
      "  bom_movie_gross_dropped_na['foreign_gross'] = bom_movie_gross_dropped_na['foreign_gross'].replace(',', '', regex=True, inplace=True)\n"
     ]
    }
   ],
   "source": [
    "bom_movie_gross_dropped_na['foreign_gross'] = bom_movie_gross_dropped_na['foreign_gross'].replace(',', '', regex=True, inplace=True)"
   ]
  },
  {
   "cell_type": "code",
   "execution_count": 14,
   "metadata": {
    "scrolled": true
   },
   "outputs": [
    {
     "name": "stderr",
     "output_type": "stream",
     "text": [
      "<ipython-input-14-005ff372db55>:1: SettingWithCopyWarning: \n",
      "A value is trying to be set on a copy of a slice from a DataFrame.\n",
      "Try using .loc[row_indexer,col_indexer] = value instead\n",
      "\n",
      "See the caveats in the documentation: https://pandas.pydata.org/pandas-docs/stable/user_guide/indexing.html#returning-a-view-versus-a-copy\n",
      "  bom_movie_gross_dropped_na['foreign_gross'] = bom_movie_gross_dropped_na['foreign_gross'].astype(float)\n"
     ]
    }
   ],
   "source": [
    "bom_movie_gross_dropped_na['foreign_gross'] = bom_movie_gross_dropped_na['foreign_gross'].astype(float)"
   ]
  },
  {
   "cell_type": "code",
   "execution_count": 15,
   "metadata": {},
   "outputs": [
    {
     "name": "stdout",
     "output_type": "stream",
     "text": [
      "<class 'pandas.core.frame.DataFrame'>\n",
      "Int64Index: 2007 entries, 0 to 3353\n",
      "Data columns (total 5 columns):\n",
      " #   Column          Non-Null Count  Dtype  \n",
      "---  ------          --------------  -----  \n",
      " 0   title           2007 non-null   object \n",
      " 1   studio          2007 non-null   object \n",
      " 2   domestic_gross  2007 non-null   float64\n",
      " 3   foreign_gross   0 non-null      float64\n",
      " 4   year            2007 non-null   int64  \n",
      "dtypes: float64(2), int64(1), object(2)\n",
      "memory usage: 94.1+ KB\n"
     ]
    }
   ],
   "source": [
    "bom_movie_gross_dropped_na.info()"
   ]
  },
  {
   "cell_type": "markdown",
   "metadata": {},
   "source": [
    "## Data Preparation\n",
    "\n",
    "Describe and justify the process for preparing the data for analysis.\n",
    "\n",
    "***\n",
    "Questions to consider:\n",
    "* Were there variables you dropped or created?\n",
    "* How did you address missing values or outliers?\n",
    "* Why are these choices appropriate given the data and the business problem?\n",
    "***"
   ]
  },
  {
   "cell_type": "code",
   "execution_count": 16,
   "metadata": {},
   "outputs": [],
   "source": [
    "# Here you run your code to clean the data"
   ]
  },
  {
   "cell_type": "code",
   "execution_count": 17,
   "metadata": {},
   "outputs": [],
   "source": [
    "#Merginng two dataframes: imdb_title_basics and imdb_title_ratings on common column 'tconst'. \n",
    "#It will be easier to parse through inforamtion once two dfs are combined. "
   ]
  },
  {
   "cell_type": "code",
   "execution_count": 18,
   "metadata": {},
   "outputs": [
    {
     "data": {
      "text/html": [
       "<div>\n",
       "<style scoped>\n",
       "    .dataframe tbody tr th:only-of-type {\n",
       "        vertical-align: middle;\n",
       "    }\n",
       "\n",
       "    .dataframe tbody tr th {\n",
       "        vertical-align: top;\n",
       "    }\n",
       "\n",
       "    .dataframe thead th {\n",
       "        text-align: right;\n",
       "    }\n",
       "</style>\n",
       "<table border=\"1\" class=\"dataframe\">\n",
       "  <thead>\n",
       "    <tr style=\"text-align: right;\">\n",
       "      <th></th>\n",
       "      <th>tconst</th>\n",
       "      <th>primary_title</th>\n",
       "      <th>original_title</th>\n",
       "      <th>start_year</th>\n",
       "      <th>runtime_minutes</th>\n",
       "      <th>genres</th>\n",
       "      <th>averagerating</th>\n",
       "      <th>numvotes</th>\n",
       "    </tr>\n",
       "  </thead>\n",
       "  <tbody>\n",
       "    <tr>\n",
       "      <th>0</th>\n",
       "      <td>tt0063540</td>\n",
       "      <td>Sunghursh</td>\n",
       "      <td>Sunghursh</td>\n",
       "      <td>2013</td>\n",
       "      <td>175.0</td>\n",
       "      <td>Action,Crime,Drama</td>\n",
       "      <td>7.0</td>\n",
       "      <td>77</td>\n",
       "    </tr>\n",
       "    <tr>\n",
       "      <th>1</th>\n",
       "      <td>tt0066787</td>\n",
       "      <td>One Day Before the Rainy Season</td>\n",
       "      <td>Ashad Ka Ek Din</td>\n",
       "      <td>2019</td>\n",
       "      <td>114.0</td>\n",
       "      <td>Biography,Drama</td>\n",
       "      <td>7.2</td>\n",
       "      <td>43</td>\n",
       "    </tr>\n",
       "    <tr>\n",
       "      <th>2</th>\n",
       "      <td>tt0069049</td>\n",
       "      <td>The Other Side of the Wind</td>\n",
       "      <td>The Other Side of the Wind</td>\n",
       "      <td>2018</td>\n",
       "      <td>122.0</td>\n",
       "      <td>Drama</td>\n",
       "      <td>6.9</td>\n",
       "      <td>4517</td>\n",
       "    </tr>\n",
       "    <tr>\n",
       "      <th>3</th>\n",
       "      <td>tt0069204</td>\n",
       "      <td>Sabse Bada Sukh</td>\n",
       "      <td>Sabse Bada Sukh</td>\n",
       "      <td>2018</td>\n",
       "      <td>NaN</td>\n",
       "      <td>Comedy,Drama</td>\n",
       "      <td>6.1</td>\n",
       "      <td>13</td>\n",
       "    </tr>\n",
       "    <tr>\n",
       "      <th>4</th>\n",
       "      <td>tt0100275</td>\n",
       "      <td>The Wandering Soap Opera</td>\n",
       "      <td>La Telenovela Errante</td>\n",
       "      <td>2017</td>\n",
       "      <td>80.0</td>\n",
       "      <td>Comedy,Drama,Fantasy</td>\n",
       "      <td>6.5</td>\n",
       "      <td>119</td>\n",
       "    </tr>\n",
       "  </tbody>\n",
       "</table>\n",
       "</div>"
      ],
      "text/plain": [
       "      tconst                    primary_title              original_title  \\\n",
       "0  tt0063540                        Sunghursh                   Sunghursh   \n",
       "1  tt0066787  One Day Before the Rainy Season             Ashad Ka Ek Din   \n",
       "2  tt0069049       The Other Side of the Wind  The Other Side of the Wind   \n",
       "3  tt0069204                  Sabse Bada Sukh             Sabse Bada Sukh   \n",
       "4  tt0100275         The Wandering Soap Opera       La Telenovela Errante   \n",
       "\n",
       "   start_year  runtime_minutes                genres  averagerating  numvotes  \n",
       "0        2013            175.0    Action,Crime,Drama            7.0        77  \n",
       "1        2019            114.0       Biography,Drama            7.2        43  \n",
       "2        2018            122.0                 Drama            6.9      4517  \n",
       "3        2018              NaN          Comedy,Drama            6.1        13  \n",
       "4        2017             80.0  Comedy,Drama,Fantasy            6.5       119  "
      ]
     },
     "execution_count": 18,
     "metadata": {},
     "output_type": "execute_result"
    }
   ],
   "source": [
    "imdb_title_raiting_basics_df = imdb_title_basics.merge(imdb_title_ratings, on=\"tconst\", how=\"inner\")\n",
    "imdb_title_raiting_basics_df.head()"
   ]
  },
  {
   "cell_type": "code",
   "execution_count": 19,
   "metadata": {},
   "outputs": [
    {
     "data": {
      "text/plain": [
       "(73856, 8)"
      ]
     },
     "execution_count": 19,
     "metadata": {},
     "output_type": "execute_result"
    }
   ],
   "source": [
    "imdb_title_raiting_basics_df.shape"
   ]
  },
  {
   "cell_type": "code",
   "execution_count": 20,
   "metadata": {},
   "outputs": [
    {
     "name": "stdout",
     "output_type": "stream",
     "text": [
      "<class 'pandas.core.frame.DataFrame'>\n",
      "Int64Index: 73856 entries, 0 to 73855\n",
      "Data columns (total 8 columns):\n",
      " #   Column           Non-Null Count  Dtype  \n",
      "---  ------           --------------  -----  \n",
      " 0   tconst           73856 non-null  object \n",
      " 1   primary_title    73856 non-null  object \n",
      " 2   original_title   73856 non-null  object \n",
      " 3   start_year       73856 non-null  int64  \n",
      " 4   runtime_minutes  66236 non-null  float64\n",
      " 5   genres           73052 non-null  object \n",
      " 6   averagerating    73856 non-null  float64\n",
      " 7   numvotes         73856 non-null  int64  \n",
      "dtypes: float64(2), int64(2), object(4)\n",
      "memory usage: 5.1+ MB\n"
     ]
    }
   ],
   "source": [
    "imdb_title_raiting_basics_df.info()"
   ]
  },
  {
   "cell_type": "code",
   "execution_count": 21,
   "metadata": {
    "scrolled": false
   },
   "outputs": [
    {
     "data": {
      "text/html": [
       "<div>\n",
       "<style scoped>\n",
       "    .dataframe tbody tr th:only-of-type {\n",
       "        vertical-align: middle;\n",
       "    }\n",
       "\n",
       "    .dataframe tbody tr th {\n",
       "        vertical-align: top;\n",
       "    }\n",
       "\n",
       "    .dataframe thead th {\n",
       "        text-align: right;\n",
       "    }\n",
       "</style>\n",
       "<table border=\"1\" class=\"dataframe\">\n",
       "  <thead>\n",
       "    <tr style=\"text-align: right;\">\n",
       "      <th></th>\n",
       "      <th>start_year</th>\n",
       "      <th>runtime_minutes</th>\n",
       "      <th>averagerating</th>\n",
       "      <th>numvotes</th>\n",
       "    </tr>\n",
       "  </thead>\n",
       "  <tbody>\n",
       "    <tr>\n",
       "      <th>count</th>\n",
       "      <td>73856.000000</td>\n",
       "      <td>66236.000000</td>\n",
       "      <td>73856.000000</td>\n",
       "      <td>7.385600e+04</td>\n",
       "    </tr>\n",
       "    <tr>\n",
       "      <th>mean</th>\n",
       "      <td>2014.276132</td>\n",
       "      <td>94.654040</td>\n",
       "      <td>6.332729</td>\n",
       "      <td>3.523662e+03</td>\n",
       "    </tr>\n",
       "    <tr>\n",
       "      <th>std</th>\n",
       "      <td>2.614807</td>\n",
       "      <td>208.574111</td>\n",
       "      <td>1.474978</td>\n",
       "      <td>3.029402e+04</td>\n",
       "    </tr>\n",
       "    <tr>\n",
       "      <th>min</th>\n",
       "      <td>2010.000000</td>\n",
       "      <td>3.000000</td>\n",
       "      <td>1.000000</td>\n",
       "      <td>5.000000e+00</td>\n",
       "    </tr>\n",
       "    <tr>\n",
       "      <th>25%</th>\n",
       "      <td>2012.000000</td>\n",
       "      <td>81.000000</td>\n",
       "      <td>5.500000</td>\n",
       "      <td>1.400000e+01</td>\n",
       "    </tr>\n",
       "    <tr>\n",
       "      <th>50%</th>\n",
       "      <td>2014.000000</td>\n",
       "      <td>91.000000</td>\n",
       "      <td>6.500000</td>\n",
       "      <td>4.900000e+01</td>\n",
       "    </tr>\n",
       "    <tr>\n",
       "      <th>75%</th>\n",
       "      <td>2016.000000</td>\n",
       "      <td>104.000000</td>\n",
       "      <td>7.400000</td>\n",
       "      <td>2.820000e+02</td>\n",
       "    </tr>\n",
       "    <tr>\n",
       "      <th>max</th>\n",
       "      <td>2019.000000</td>\n",
       "      <td>51420.000000</td>\n",
       "      <td>10.000000</td>\n",
       "      <td>1.841066e+06</td>\n",
       "    </tr>\n",
       "  </tbody>\n",
       "</table>\n",
       "</div>"
      ],
      "text/plain": [
       "         start_year  runtime_minutes  averagerating      numvotes\n",
       "count  73856.000000     66236.000000   73856.000000  7.385600e+04\n",
       "mean    2014.276132        94.654040       6.332729  3.523662e+03\n",
       "std        2.614807       208.574111       1.474978  3.029402e+04\n",
       "min     2010.000000         3.000000       1.000000  5.000000e+00\n",
       "25%     2012.000000        81.000000       5.500000  1.400000e+01\n",
       "50%     2014.000000        91.000000       6.500000  4.900000e+01\n",
       "75%     2016.000000       104.000000       7.400000  2.820000e+02\n",
       "max     2019.000000     51420.000000      10.000000  1.841066e+06"
      ]
     },
     "execution_count": 21,
     "metadata": {},
     "output_type": "execute_result"
    }
   ],
   "source": [
    "#basic stats\n",
    "imdb_title_raiting_basics_df.describe()"
   ]
  },
  {
   "cell_type": "code",
   "execution_count": 22,
   "metadata": {
    "scrolled": true
   },
   "outputs": [
    {
     "data": {
      "text/html": [
       "<div>\n",
       "<style scoped>\n",
       "    .dataframe tbody tr th:only-of-type {\n",
       "        vertical-align: middle;\n",
       "    }\n",
       "\n",
       "    .dataframe tbody tr th {\n",
       "        vertical-align: top;\n",
       "    }\n",
       "\n",
       "    .dataframe thead th {\n",
       "        text-align: right;\n",
       "    }\n",
       "</style>\n",
       "<table border=\"1\" class=\"dataframe\">\n",
       "  <thead>\n",
       "    <tr style=\"text-align: right;\">\n",
       "      <th></th>\n",
       "      <th>tconst</th>\n",
       "      <th>primary_title</th>\n",
       "      <th>original_title</th>\n",
       "      <th>start_year</th>\n",
       "      <th>runtime_minutes</th>\n",
       "      <th>genres</th>\n",
       "      <th>averagerating</th>\n",
       "      <th>numvotes</th>\n",
       "    </tr>\n",
       "  </thead>\n",
       "  <tbody>\n",
       "    <tr>\n",
       "      <th>2</th>\n",
       "      <td>tt0069049</td>\n",
       "      <td>The Other Side of the Wind</td>\n",
       "      <td>The Other Side of the Wind</td>\n",
       "      <td>2018</td>\n",
       "      <td>122.0</td>\n",
       "      <td>Drama</td>\n",
       "      <td>6.9</td>\n",
       "      <td>4517</td>\n",
       "    </tr>\n",
       "    <tr>\n",
       "      <th>4</th>\n",
       "      <td>tt0100275</td>\n",
       "      <td>The Wandering Soap Opera</td>\n",
       "      <td>La Telenovela Errante</td>\n",
       "      <td>2017</td>\n",
       "      <td>80.0</td>\n",
       "      <td>Comedy,Drama,Fantasy</td>\n",
       "      <td>6.5</td>\n",
       "      <td>119</td>\n",
       "    </tr>\n",
       "    <tr>\n",
       "      <th>6</th>\n",
       "      <td>tt0137204</td>\n",
       "      <td>Joe Finds Grace</td>\n",
       "      <td>Joe Finds Grace</td>\n",
       "      <td>2017</td>\n",
       "      <td>83.0</td>\n",
       "      <td>Adventure,Animation,Comedy</td>\n",
       "      <td>8.1</td>\n",
       "      <td>263</td>\n",
       "    </tr>\n",
       "    <tr>\n",
       "      <th>7</th>\n",
       "      <td>tt0146592</td>\n",
       "      <td>Pál Adrienn</td>\n",
       "      <td>Pál Adrienn</td>\n",
       "      <td>2010</td>\n",
       "      <td>136.0</td>\n",
       "      <td>Drama</td>\n",
       "      <td>6.8</td>\n",
       "      <td>451</td>\n",
       "    </tr>\n",
       "    <tr>\n",
       "      <th>10</th>\n",
       "      <td>tt0162942</td>\n",
       "      <td>Children of the Green Dragon</td>\n",
       "      <td>A zöld sárkány gyermekei</td>\n",
       "      <td>2010</td>\n",
       "      <td>89.0</td>\n",
       "      <td>Drama</td>\n",
       "      <td>6.9</td>\n",
       "      <td>120</td>\n",
       "    </tr>\n",
       "    <tr>\n",
       "      <th>...</th>\n",
       "      <td>...</td>\n",
       "      <td>...</td>\n",
       "      <td>...</td>\n",
       "      <td>...</td>\n",
       "      <td>...</td>\n",
       "      <td>...</td>\n",
       "      <td>...</td>\n",
       "      <td>...</td>\n",
       "    </tr>\n",
       "    <tr>\n",
       "      <th>73840</th>\n",
       "      <td>tt9904844</td>\n",
       "      <td>Ott Tänak: The Movie</td>\n",
       "      <td>Ott Tänak: The Movie</td>\n",
       "      <td>2019</td>\n",
       "      <td>125.0</td>\n",
       "      <td>Documentary</td>\n",
       "      <td>8.7</td>\n",
       "      <td>218</td>\n",
       "    </tr>\n",
       "    <tr>\n",
       "      <th>73841</th>\n",
       "      <td>tt9905412</td>\n",
       "      <td>Ottam</td>\n",
       "      <td>Ottam</td>\n",
       "      <td>2019</td>\n",
       "      <td>120.0</td>\n",
       "      <td>Drama</td>\n",
       "      <td>8.1</td>\n",
       "      <td>505</td>\n",
       "    </tr>\n",
       "    <tr>\n",
       "      <th>73842</th>\n",
       "      <td>tt9905462</td>\n",
       "      <td>Pengalila</td>\n",
       "      <td>Pengalila</td>\n",
       "      <td>2019</td>\n",
       "      <td>111.0</td>\n",
       "      <td>Drama</td>\n",
       "      <td>8.4</td>\n",
       "      <td>600</td>\n",
       "    </tr>\n",
       "    <tr>\n",
       "      <th>73849</th>\n",
       "      <td>tt9911774</td>\n",
       "      <td>Padmavyuhathile Abhimanyu</td>\n",
       "      <td>Padmavyuhathile Abhimanyu</td>\n",
       "      <td>2019</td>\n",
       "      <td>130.0</td>\n",
       "      <td>Drama</td>\n",
       "      <td>8.4</td>\n",
       "      <td>365</td>\n",
       "    </tr>\n",
       "    <tr>\n",
       "      <th>73852</th>\n",
       "      <td>tt9914286</td>\n",
       "      <td>Sokagin Çocuklari</td>\n",
       "      <td>Sokagin Çocuklari</td>\n",
       "      <td>2019</td>\n",
       "      <td>98.0</td>\n",
       "      <td>Drama,Family</td>\n",
       "      <td>8.7</td>\n",
       "      <td>136</td>\n",
       "    </tr>\n",
       "  </tbody>\n",
       "</table>\n",
       "<p>28648 rows × 8 columns</p>\n",
       "</div>"
      ],
      "text/plain": [
       "          tconst                 primary_title              original_title  \\\n",
       "2      tt0069049    The Other Side of the Wind  The Other Side of the Wind   \n",
       "4      tt0100275      The Wandering Soap Opera       La Telenovela Errante   \n",
       "6      tt0137204               Joe Finds Grace             Joe Finds Grace   \n",
       "7      tt0146592                   Pál Adrienn                 Pál Adrienn   \n",
       "10     tt0162942  Children of the Green Dragon    A zöld sárkány gyermekei   \n",
       "...          ...                           ...                         ...   \n",
       "73840  tt9904844          Ott Tänak: The Movie        Ott Tänak: The Movie   \n",
       "73841  tt9905412                         Ottam                       Ottam   \n",
       "73842  tt9905462                     Pengalila                   Pengalila   \n",
       "73849  tt9911774     Padmavyuhathile Abhimanyu   Padmavyuhathile Abhimanyu   \n",
       "73852  tt9914286             Sokagin Çocuklari           Sokagin Çocuklari   \n",
       "\n",
       "       start_year  runtime_minutes                      genres  averagerating  \\\n",
       "2            2018            122.0                       Drama            6.9   \n",
       "4            2017             80.0        Comedy,Drama,Fantasy            6.5   \n",
       "6            2017             83.0  Adventure,Animation,Comedy            8.1   \n",
       "7            2010            136.0                       Drama            6.8   \n",
       "10           2010             89.0                       Drama            6.9   \n",
       "...           ...              ...                         ...            ...   \n",
       "73840        2019            125.0                 Documentary            8.7   \n",
       "73841        2019            120.0                       Drama            8.1   \n",
       "73842        2019            111.0                       Drama            8.4   \n",
       "73849        2019            130.0                       Drama            8.4   \n",
       "73852        2019             98.0                Drama,Family            8.7   \n",
       "\n",
       "       numvotes  \n",
       "2          4517  \n",
       "4           119  \n",
       "6           263  \n",
       "7           451  \n",
       "10          120  \n",
       "...         ...  \n",
       "73840       218  \n",
       "73841       505  \n",
       "73842       600  \n",
       "73849       365  \n",
       "73852       136  \n",
       "\n",
       "[28648 rows x 8 columns]"
      ]
     },
     "execution_count": 22,
     "metadata": {},
     "output_type": "execute_result"
    }
   ],
   "source": [
    "#df with over 100 reviews per movie\n",
    "imdb_df_over_100_votes = imdb_title_raiting_basics_df.loc[imdb_title_raiting_basics_df['numvotes'] > 100]\n",
    "imdb_df_over_100_votes"
   ]
  },
  {
   "cell_type": "markdown",
   "metadata": {},
   "source": [
    "# Merging bom_movie_gross and imdb_title_raiting_basics_df"
   ]
  },
  {
   "cell_type": "code",
   "execution_count": 23,
   "metadata": {},
   "outputs": [
    {
     "data": {
      "text/html": [
       "<div>\n",
       "<style scoped>\n",
       "    .dataframe tbody tr th:only-of-type {\n",
       "        vertical-align: middle;\n",
       "    }\n",
       "\n",
       "    .dataframe tbody tr th {\n",
       "        vertical-align: top;\n",
       "    }\n",
       "\n",
       "    .dataframe thead th {\n",
       "        text-align: right;\n",
       "    }\n",
       "</style>\n",
       "<table border=\"1\" class=\"dataframe\">\n",
       "  <thead>\n",
       "    <tr style=\"text-align: right;\">\n",
       "      <th></th>\n",
       "      <th>original_title</th>\n",
       "      <th>studio</th>\n",
       "      <th>domestic_gross</th>\n",
       "      <th>foreign_gross</th>\n",
       "      <th>year</th>\n",
       "    </tr>\n",
       "  </thead>\n",
       "  <tbody>\n",
       "    <tr>\n",
       "      <th>0</th>\n",
       "      <td>Toy Story 3</td>\n",
       "      <td>BV</td>\n",
       "      <td>415000000.0</td>\n",
       "      <td>652000000</td>\n",
       "      <td>2010</td>\n",
       "    </tr>\n",
       "    <tr>\n",
       "      <th>1</th>\n",
       "      <td>Alice in Wonderland (2010)</td>\n",
       "      <td>BV</td>\n",
       "      <td>334200000.0</td>\n",
       "      <td>691300000</td>\n",
       "      <td>2010</td>\n",
       "    </tr>\n",
       "    <tr>\n",
       "      <th>2</th>\n",
       "      <td>Harry Potter and the Deathly Hallows Part 1</td>\n",
       "      <td>WB</td>\n",
       "      <td>296000000.0</td>\n",
       "      <td>664300000</td>\n",
       "      <td>2010</td>\n",
       "    </tr>\n",
       "    <tr>\n",
       "      <th>3</th>\n",
       "      <td>Inception</td>\n",
       "      <td>WB</td>\n",
       "      <td>292600000.0</td>\n",
       "      <td>535700000</td>\n",
       "      <td>2010</td>\n",
       "    </tr>\n",
       "    <tr>\n",
       "      <th>4</th>\n",
       "      <td>Shrek Forever After</td>\n",
       "      <td>P/DW</td>\n",
       "      <td>238700000.0</td>\n",
       "      <td>513900000</td>\n",
       "      <td>2010</td>\n",
       "    </tr>\n",
       "  </tbody>\n",
       "</table>\n",
       "</div>"
      ],
      "text/plain": [
       "                                original_title studio  domestic_gross  \\\n",
       "0                                  Toy Story 3     BV     415000000.0   \n",
       "1                   Alice in Wonderland (2010)     BV     334200000.0   \n",
       "2  Harry Potter and the Deathly Hallows Part 1     WB     296000000.0   \n",
       "3                                    Inception     WB     292600000.0   \n",
       "4                          Shrek Forever After   P/DW     238700000.0   \n",
       "\n",
       "  foreign_gross  year  \n",
       "0     652000000  2010  \n",
       "1     691300000  2010  \n",
       "2     664300000  2010  \n",
       "3     535700000  2010  \n",
       "4     513900000  2010  "
      ]
     },
     "execution_count": 23,
     "metadata": {},
     "output_type": "execute_result"
    }
   ],
   "source": [
    "bom_movie_gross.rename(columns={'title':'original_title'}, inplace=True)\n",
    "bom_movie_gross.head()"
   ]
  },
  {
   "cell_type": "code",
   "execution_count": 24,
   "metadata": {},
   "outputs": [
    {
     "data": {
      "text/html": [
       "<div>\n",
       "<style scoped>\n",
       "    .dataframe tbody tr th:only-of-type {\n",
       "        vertical-align: middle;\n",
       "    }\n",
       "\n",
       "    .dataframe tbody tr th {\n",
       "        vertical-align: top;\n",
       "    }\n",
       "\n",
       "    .dataframe thead th {\n",
       "        text-align: right;\n",
       "    }\n",
       "</style>\n",
       "<table border=\"1\" class=\"dataframe\">\n",
       "  <thead>\n",
       "    <tr style=\"text-align: right;\">\n",
       "      <th></th>\n",
       "      <th>tconst</th>\n",
       "      <th>primary_title</th>\n",
       "      <th>original_title</th>\n",
       "      <th>start_year</th>\n",
       "      <th>runtime_minutes</th>\n",
       "      <th>genres</th>\n",
       "      <th>averagerating</th>\n",
       "      <th>numvotes</th>\n",
       "      <th>studio</th>\n",
       "      <th>domestic_gross</th>\n",
       "      <th>foreign_gross</th>\n",
       "      <th>year</th>\n",
       "    </tr>\n",
       "  </thead>\n",
       "  <tbody>\n",
       "    <tr>\n",
       "      <th>0</th>\n",
       "      <td>tt0315642</td>\n",
       "      <td>Wazir</td>\n",
       "      <td>Wazir</td>\n",
       "      <td>2016</td>\n",
       "      <td>103.0</td>\n",
       "      <td>Action,Crime,Drama</td>\n",
       "      <td>7.1</td>\n",
       "      <td>15378</td>\n",
       "      <td>Relbig.</td>\n",
       "      <td>1100000.0</td>\n",
       "      <td>NaN</td>\n",
       "      <td>2016</td>\n",
       "    </tr>\n",
       "    <tr>\n",
       "      <th>1</th>\n",
       "      <td>tt0337692</td>\n",
       "      <td>On the Road</td>\n",
       "      <td>On the Road</td>\n",
       "      <td>2012</td>\n",
       "      <td>124.0</td>\n",
       "      <td>Adventure,Drama,Romance</td>\n",
       "      <td>6.1</td>\n",
       "      <td>37886</td>\n",
       "      <td>IFC</td>\n",
       "      <td>744000.0</td>\n",
       "      <td>8000000</td>\n",
       "      <td>2012</td>\n",
       "    </tr>\n",
       "    <tr>\n",
       "      <th>2</th>\n",
       "      <td>tt4339118</td>\n",
       "      <td>On the Road</td>\n",
       "      <td>On the Road</td>\n",
       "      <td>2014</td>\n",
       "      <td>89.0</td>\n",
       "      <td>Drama</td>\n",
       "      <td>6.0</td>\n",
       "      <td>6</td>\n",
       "      <td>IFC</td>\n",
       "      <td>744000.0</td>\n",
       "      <td>8000000</td>\n",
       "      <td>2012</td>\n",
       "    </tr>\n",
       "    <tr>\n",
       "      <th>3</th>\n",
       "      <td>tt5647250</td>\n",
       "      <td>On the Road</td>\n",
       "      <td>On the Road</td>\n",
       "      <td>2016</td>\n",
       "      <td>121.0</td>\n",
       "      <td>Drama</td>\n",
       "      <td>5.7</td>\n",
       "      <td>127</td>\n",
       "      <td>IFC</td>\n",
       "      <td>744000.0</td>\n",
       "      <td>8000000</td>\n",
       "      <td>2012</td>\n",
       "    </tr>\n",
       "    <tr>\n",
       "      <th>4</th>\n",
       "      <td>tt0359950</td>\n",
       "      <td>The Secret Life of Walter Mitty</td>\n",
       "      <td>The Secret Life of Walter Mitty</td>\n",
       "      <td>2013</td>\n",
       "      <td>114.0</td>\n",
       "      <td>Adventure,Comedy,Drama</td>\n",
       "      <td>7.3</td>\n",
       "      <td>275300</td>\n",
       "      <td>Fox</td>\n",
       "      <td>58200000.0</td>\n",
       "      <td>129900000</td>\n",
       "      <td>2013</td>\n",
       "    </tr>\n",
       "  </tbody>\n",
       "</table>\n",
       "</div>"
      ],
      "text/plain": [
       "      tconst                    primary_title  \\\n",
       "0  tt0315642                            Wazir   \n",
       "1  tt0337692                      On the Road   \n",
       "2  tt4339118                      On the Road   \n",
       "3  tt5647250                      On the Road   \n",
       "4  tt0359950  The Secret Life of Walter Mitty   \n",
       "\n",
       "                    original_title  start_year  runtime_minutes  \\\n",
       "0                            Wazir        2016            103.0   \n",
       "1                      On the Road        2012            124.0   \n",
       "2                      On the Road        2014             89.0   \n",
       "3                      On the Road        2016            121.0   \n",
       "4  The Secret Life of Walter Mitty        2013            114.0   \n",
       "\n",
       "                    genres  averagerating  numvotes   studio  domestic_gross  \\\n",
       "0       Action,Crime,Drama            7.1     15378  Relbig.       1100000.0   \n",
       "1  Adventure,Drama,Romance            6.1     37886      IFC        744000.0   \n",
       "2                    Drama            6.0         6      IFC        744000.0   \n",
       "3                    Drama            5.7       127      IFC        744000.0   \n",
       "4   Adventure,Comedy,Drama            7.3    275300      Fox      58200000.0   \n",
       "\n",
       "  foreign_gross  year  \n",
       "0           NaN  2016  \n",
       "1       8000000  2012  \n",
       "2       8000000  2012  \n",
       "3       8000000  2012  \n",
       "4     129900000  2013  "
      ]
     },
     "execution_count": 24,
     "metadata": {},
     "output_type": "execute_result"
    }
   ],
   "source": [
    "#merging bom_movie_gross and imdb_title_raiting_basics_df\n",
    "imdb_title_raiting_basics_gross_df = imdb_title_raiting_basics_df.merge(bom_movie_gross, on=\"original_title\", \\\n",
    "                                                                        how=\"inner\")\n",
    "imdb_title_raiting_basics_gross_df.head()"
   ]
  },
  {
   "cell_type": "code",
   "execution_count": 25,
   "metadata": {},
   "outputs": [
    {
     "name": "stdout",
     "output_type": "stream",
     "text": [
      "<class 'pandas.core.frame.DataFrame'>\n",
      "Int64Index: 2447 entries, 0 to 2446\n",
      "Data columns (total 12 columns):\n",
      " #   Column           Non-Null Count  Dtype  \n",
      "---  ------           --------------  -----  \n",
      " 0   tconst           2447 non-null   object \n",
      " 1   primary_title    2447 non-null   object \n",
      " 2   original_title   2447 non-null   object \n",
      " 3   start_year       2447 non-null   int64  \n",
      " 4   runtime_minutes  2402 non-null   float64\n",
      " 5   genres           2443 non-null   object \n",
      " 6   averagerating    2447 non-null   float64\n",
      " 7   numvotes         2447 non-null   int64  \n",
      " 8   studio           2444 non-null   object \n",
      " 9   domestic_gross   2429 non-null   float64\n",
      " 10  foreign_gross    1573 non-null   object \n",
      " 11  year             2447 non-null   int64  \n",
      "dtypes: float64(3), int64(3), object(6)\n",
      "memory usage: 248.5+ KB\n"
     ]
    }
   ],
   "source": [
    "imdb_title_raiting_basics_gross_df.info()"
   ]
  },
  {
   "cell_type": "code",
   "execution_count": null,
   "metadata": {},
   "outputs": [],
   "source": []
  },
  {
   "cell_type": "markdown",
   "metadata": {},
   "source": [
    "## Data Modeling\n",
    "Describe and justify the process for analyzing or modeling the data.\n",
    "\n",
    "***\n",
    "Questions to consider:\n",
    "* How did you analyze or model the data?\n",
    "* How did you iterate on your initial approach to make it better?\n",
    "* Why are these choices appropriate given the data and the business problem?\n",
    "***"
   ]
  },
  {
   "cell_type": "code",
   "execution_count": 26,
   "metadata": {},
   "outputs": [],
   "source": [
    "# Here you run your code to model the data\n"
   ]
  },
  {
   "cell_type": "code",
   "execution_count": 27,
   "metadata": {
    "scrolled": true
   },
   "outputs": [
    {
     "data": {
      "text/plain": [
       "1                Biography,Drama\n",
       "21                         Drama\n",
       "26                   Documentary\n",
       "94       Action,Adventure,Sci-Fi\n",
       "106         Comedy,Drama,Romance\n",
       "                  ...           \n",
       "73850                Documentary\n",
       "73851                Documentary\n",
       "73852               Drama,Family\n",
       "73854                        NaN\n",
       "73855                Documentary\n",
       "Name: genres, Length: 2180, dtype: object"
      ]
     },
     "execution_count": 27,
     "metadata": {},
     "output_type": "execute_result"
    }
   ],
   "source": [
    "#list of 2019 movies \n",
    "imdb_2019_movies = imdb_title_raiting_basics_df.loc[imdb_title_raiting_basics_df['start_year']==2019, 'genres']\n",
    "imdb_2019_movies"
   ]
  },
  {
   "cell_type": "code",
   "execution_count": 28,
   "metadata": {
    "scrolled": false
   },
   "outputs": [
    {
     "data": {
      "text/plain": [
       "array(['Biography,Drama', 'Drama', 'Documentary',\n",
       "       'Action,Adventure,Sci-Fi', 'Comedy,Drama,Romance',\n",
       "       'Action,Adventure,Comedy', 'Animation,Family,Fantasy',\n",
       "       'Biography,Comedy,Drama', 'Horror,Mystery,Thriller',\n",
       "       'Comedy,Horror,Sci-Fi', 'Action,Biography,Drama', nan,\n",
       "       'Action,Comedy,Horror', 'Horror', 'Comedy,Fantasy',\n",
       "       'Drama,Romance', 'Comedy', 'Action,Crime', 'Romance', 'Family',\n",
       "       'Drama,Family', 'Comedy,Drama', 'Drama,Mystery',\n",
       "       'Adventure,Fantasy', 'Documentary,Drama', 'Biography,Drama,Family',\n",
       "       'Thriller', 'Adventure,Animation,Fantasy', 'Comedy,Romance',\n",
       "       'Horror,Thriller', 'Action', 'Mystery', 'Action,Adventure,History',\n",
       "       'Comedy,Horror', 'Animation,Family', 'Action,Thriller',\n",
       "       'Comedy,Drama,Family', 'Drama,Fantasy,Horror', 'Musical',\n",
       "       'Comedy,Documentary,Sport', 'Documentary,Music', 'Crime,Drama',\n",
       "       'Documentary,History,War', 'Comedy,Crime', 'Comedy,Family',\n",
       "       'Crime,Documentary,Drama', 'Action,Adventure,Animation',\n",
       "       'Animation', 'Drama,Sport', 'Crime', 'History',\n",
       "       'Action,Crime,Drama', 'Comedy,Crime,Thriller',\n",
       "       'Crime,Mystery,Thriller', 'Action,Fantasy,History',\n",
       "       'Biography,Drama,Romance', 'Fantasy',\n",
       "       'Biography,Documentary,Music', 'Sci-Fi', 'Western',\n",
       "       'Mystery,Thriller', 'Sport', 'Action,Biography,Crime',\n",
       "       'Action,Comedy', 'Adventure,Drama,Sci-Fi', 'Music',\n",
       "       'Comedy,Family,Thriller', 'Comedy,Thriller', 'Sci-Fi,Thriller',\n",
       "       'Action,Drama,Romance', 'Action,History', 'Biography,Drama,War',\n",
       "       'Action,Drama,Western', 'Action,Adventure,Crime',\n",
       "       'Comedy,Drama,Musical', 'Action,Adventure,Drama', 'Drama,Thriller',\n",
       "       'Biography,Drama,History', 'Biography,Crime,Drama',\n",
       "       'Adventure,Animation,Comedy', 'Action,Drama',\n",
       "       'Biography,Drama,Music', 'Comedy,Romance,Sci-Fi',\n",
       "       'Action,Adventure,Fantasy', 'Drama,Music',\n",
       "       'Comedy,Fantasy,Romance', 'Adventure,Comedy,Drama',\n",
       "       'Mystery,News,Thriller', 'Adventure,Horror,Mystery',\n",
       "       'Comedy,Drama,War', 'Crime,Thriller', 'Action,Drama,Sport',\n",
       "       'Biography', 'Adventure,Drama,Romance', 'Adventure,Drama,Family',\n",
       "       'Action,Drama,War', 'Adventure,Family,Fantasy',\n",
       "       'Documentary,Drama,Sport', 'Horror,Mystery,Sci-Fi',\n",
       "       'Comedy,Crime,Drama', 'Fantasy,Sci-Fi', 'Action,Drama,Fantasy',\n",
       "       'Drama,Sci-Fi', 'Biography,Documentary', 'Adventure',\n",
       "       'Action,Horror,Sci-Fi', 'Drama,History', 'Drama,Mystery,Thriller',\n",
       "       'Crime,Drama,Mystery', 'Biography,Drama,Western',\n",
       "       'Biography,Documentary,History', 'Drama,Horror',\n",
       "       'Action,Horror,Thriller', 'War', 'Horror,Sci-Fi,Thriller',\n",
       "       'Action,Sci-Fi,Thriller', 'Comedy,Drama,Sport',\n",
       "       'Biography,Drama,Thriller', 'Documentary,Sport',\n",
       "       'Action,Crime,Thriller', 'Biography,Documentary,Sport',\n",
       "       'Drama,Horror,Thriller', 'Drama,Musical,Thriller',\n",
       "       'Crime,Drama,Thriller', 'Drama,Music,Romance',\n",
       "       'Action,Adventure,Horror', 'Drama,Horror,Mystery',\n",
       "       'Biography,Drama,Mystery', 'Action,War', 'Drama,Romance,War',\n",
       "       'Adventure,Comedy', 'Action,Crime,Documentary',\n",
       "       'Comedy,Mystery,Thriller', 'Action,Comedy,Thriller',\n",
       "       'Adventure,Comedy,Family', 'Comedy,Sport', 'Fantasy,Thriller',\n",
       "       'Action,Drama,Thriller', 'Action,Drama,History',\n",
       "       'Comedy,Horror,Mystery', 'Biography,Comedy,Crime',\n",
       "       'Comedy,Drama,Thriller', 'Drama,Mystery,Sci-Fi',\n",
       "       'Animation,Comedy,Family', 'Comedy,Sci-Fi',\n",
       "       'Fantasy,Mystery,Sci-Fi', 'Action,Adventure,Family',\n",
       "       'Adventure,Drama,Fantasy', 'Drama,Sci-Fi,Thriller',\n",
       "       'Drama,News,Thriller', 'Drama,Mystery,Romance',\n",
       "       'Crime,Drama,Horror', 'Comedy,Mystery', 'Family,Sport',\n",
       "       'Animation,Drama,Music', 'Action,Animation,Sci-Fi',\n",
       "       'Adventure,Western', 'Horror,Sci-Fi', 'Adventure,Family',\n",
       "       'Action,Adventure,Thriller', 'Crime,Mystery',\n",
       "       'Action,Fantasy,Romance', 'Action,Drama,Sci-Fi',\n",
       "       'Comedy,Drama,Sci-Fi', 'Drama,Fantasy,Musical',\n",
       "       'Crime,Drama,Musical', 'Biography,Comedy,Documentary',\n",
       "       'Documentary,Mystery', 'Adventure,Documentary',\n",
       "       'Drama,Romance,Thriller', 'Action,Sci-Fi', 'Action,Crime,Mystery',\n",
       "       'Comedy,Drama,Horror', 'Comedy,Drama,Fantasy', 'Drama,Fantasy',\n",
       "       'Action,Comedy,Drama', 'Comedy,Drama,History', 'Adventure,Horror',\n",
       "       'Biography,Drama,Musical', 'Drama,Family,History',\n",
       "       'Comedy,Fantasy,Music', 'Animation,Drama,Fantasy',\n",
       "       'Action,Animation,Comedy', 'Fantasy,Horror,Sci-Fi',\n",
       "       'Comedy,Fantasy,Horror', 'Action,Family', 'Biography,Drama,Sport',\n",
       "       'Family,War', 'Comedy,Drama,Mystery', 'Drama,Fantasy,Sci-Fi',\n",
       "       'Adventure,Animation,Family', 'Drama,Fantasy,Mystery',\n",
       "       'Comedy,Horror,Thriller', 'Horror,Romance',\n",
       "       'Musical,Mystery,Sci-Fi', 'Adventure,Fantasy,Horror',\n",
       "       'Adventure,Sci-Fi', 'Documentary,History', 'Comedy,Drama,Music',\n",
       "       'Drama,History,Romance', 'Crime,Drama,Romance',\n",
       "       'Drama,Musical,Romance', 'Animation,Music',\n",
       "       'Adventure,Comedy,Crime', 'Drama,Thriller,War', 'Family,Romance',\n",
       "       'Action,Adventure,Romance', 'Action,Animation,Fantasy',\n",
       "       'Comedy,Documentary,Drama', 'Crime,Drama,Sport',\n",
       "       'Adventure,Comedy,Horror', 'Comedy,Music,Thriller',\n",
       "       'Animation,Comedy,Drama', 'Comedy,Crime,Romance',\n",
       "       'Action,Comedy,Romance', 'Documentary,War', 'Drama,Family,Romance',\n",
       "       'Comedy,Crime,Mystery', 'Comedy,Romance,Sport',\n",
       "       'Adventure,Comedy,Documentary', 'Animation,Documentary,Drama',\n",
       "       'Mystery,Sci-Fi,Thriller', 'Drama,History,War',\n",
       "       'Documentary,Family,Sci-Fi', 'Documentary,Drama,Family',\n",
       "       'Action,History,War', 'Adventure,Animation,Sci-Fi',\n",
       "       'Fantasy,Romance', 'Action,Romance', 'Animation,Comedy,Fantasy',\n",
       "       'Animation,Fantasy,Romance', 'Crime,Drama,Family',\n",
       "       'Crime,Documentary,Thriller', 'Adventure,Biography,History',\n",
       "       'Drama,Family,Musical', 'Family,Sci-Fi',\n",
       "       'Adventure,Biography,Comedy', 'Animation,Fantasy',\n",
       "       'Comedy,Documentary,Romance', 'Biography,History,War',\n",
       "       'Drama,Musical', 'Comedy,Family,Romance', 'Action,Biography',\n",
       "       'Adventure,Drama', 'Drama,War', 'Documentary,Horror',\n",
       "       'Comedy,Horror,Music', 'Family,Thriller', 'Comedy,Crime,Fantasy',\n",
       "       'Action,Romance,Thriller', 'Drama,Horror,Romance',\n",
       "       'Animation,Drama', 'Animation,Comedy,Musical', 'Music,Romance',\n",
       "       'Drama,Family,Music', 'Animation,Comedy', 'Comedy,Family,Fantasy',\n",
       "       'Biography,Documentary,Drama', 'Crime,Documentary'], dtype=object)"
      ]
     },
     "execution_count": 28,
     "metadata": {},
     "output_type": "execute_result"
    }
   ],
   "source": [
    "imdb_2019_movies.unique()"
   ]
  },
  {
   "cell_type": "code",
   "execution_count": 29,
   "metadata": {},
   "outputs": [
    {
     "data": {
      "text/plain": [
       "Drama              392\n",
       "Documentary        333\n",
       "Comedy             213\n",
       "Comedy,Drama       107\n",
       "Thriller            77\n",
       "Horror              75\n",
       "Comedy,Romance      41\n",
       "Horror,Thriller     38\n",
       "Drama,Romance       37\n",
       "Action              29\n",
       "Name: genres, dtype: int64"
      ]
     },
     "execution_count": 29,
     "metadata": {},
     "output_type": "execute_result"
    }
   ],
   "source": [
    "imdb_2019_movies_above_1 = imdb_2019_movies.value_counts()\n",
    "imdb_2019_movies_above_1.iloc[:10]"
   ]
  },
  {
   "cell_type": "code",
   "execution_count": 30,
   "metadata": {},
   "outputs": [
    {
     "data": {
      "image/png": "[encoded data removed]",
      "text/plain": [
       "<Figure size 1152x360 with 2 Axes>"
      ]
     },
     "metadata": {
      "needs_background": "light"
     },
     "output_type": "display_data"
    }
   ],
   "source": [
    "# Set up plots\n",
    "fig, (ax1, ax2) = plt.subplots(ncols=2, figsize=(16, 5))\n",
    "\n",
    "# Create variables for easier reuse\n",
    "value_counts = imdb_2019_movies.value_counts()\n",
    "top_10_counts = value_counts.iloc[:10]\n",
    "top_20_counts = value_counts.iloc[:20]\n",
    "\n",
    "# Plot data\n",
    "ax1.bar(top_10_counts.index, top_10_counts.values)\n",
    "ax2.bar(top_20_counts.index, top_20_counts.values)\n",
    "\n",
    "# Customize appearance\n",
    "ax1.tick_params(axis=\"x\", labelrotation=80)\n",
    "ax2.tick_params(axis=\"x\", labelrotation=80)\n",
    "ax1.set_ylabel(\"Count of Movies\")\n",
    "ax2.set_ylabel(\"Count of Movies\")\n",
    "ax1.set_title(\"Top 10 Movie Genres in 2019\")\n",
    "ax2.set_title(\"Top 20 Movie Genres by Count in 2019\");"
   ]
  },
  {
   "cell_type": "code",
   "execution_count": 31,
   "metadata": {
    "scrolled": false
   },
   "outputs": [
    {
     "data": {
      "text/html": [
       "<div>\n",
       "<style scoped>\n",
       "    .dataframe tbody tr th:only-of-type {\n",
       "        vertical-align: middle;\n",
       "    }\n",
       "\n",
       "    .dataframe tbody tr th {\n",
       "        vertical-align: top;\n",
       "    }\n",
       "\n",
       "    .dataframe thead th {\n",
       "        text-align: right;\n",
       "    }\n",
       "</style>\n",
       "<table border=\"1\" class=\"dataframe\">\n",
       "  <thead>\n",
       "    <tr style=\"text-align: right;\">\n",
       "      <th></th>\n",
       "      <th>tconst</th>\n",
       "      <th>primary_title</th>\n",
       "      <th>original_title</th>\n",
       "      <th>start_year</th>\n",
       "      <th>runtime_minutes</th>\n",
       "      <th>averagerating</th>\n",
       "      <th>numvotes</th>\n",
       "    </tr>\n",
       "    <tr>\n",
       "      <th>genres</th>\n",
       "      <th></th>\n",
       "      <th></th>\n",
       "      <th></th>\n",
       "      <th></th>\n",
       "      <th></th>\n",
       "      <th></th>\n",
       "      <th></th>\n",
       "    </tr>\n",
       "  </thead>\n",
       "  <tbody>\n",
       "    <tr>\n",
       "      <th>Action,Adventure,Sci-Fi</th>\n",
       "      <td>tt9301884</td>\n",
       "      <td>Zombie Ninjas vs Black Ops</td>\n",
       "      <td>Zombie Ninjas vs Black Ops</td>\n",
       "      <td>2019</td>\n",
       "      <td>181.0</td>\n",
       "      <td>9.0</td>\n",
       "      <td>1841066</td>\n",
       "    </tr>\n",
       "    <tr>\n",
       "      <th>Action,Thriller</th>\n",
       "      <td>tt9479454</td>\n",
       "      <td>Zombies Have Fallen</td>\n",
       "      <td>À l'aveugle</td>\n",
       "      <td>2019</td>\n",
       "      <td>183.0</td>\n",
       "      <td>8.5</td>\n",
       "      <td>1387769</td>\n",
       "    </tr>\n",
       "    <tr>\n",
       "      <th>Adventure,Drama,Sci-Fi</th>\n",
       "      <td>tt7853292</td>\n",
       "      <td>The V: Sacrifice of the Constellations</td>\n",
       "      <td>The V: Sacrifice of the Constellations</td>\n",
       "      <td>2019</td>\n",
       "      <td>169.0</td>\n",
       "      <td>9.2</td>\n",
       "      <td>1299334</td>\n",
       "    </tr>\n",
       "    <tr>\n",
       "      <th>Drama,Western</th>\n",
       "      <td>tt9144530</td>\n",
       "      <td>Walden: Life in The Woods</td>\n",
       "      <td>Walden: Life in The Woods</td>\n",
       "      <td>2018</td>\n",
       "      <td>165.0</td>\n",
       "      <td>8.9</td>\n",
       "      <td>1211405</td>\n",
       "    </tr>\n",
       "    <tr>\n",
       "      <th>Biography,Crime,Drama</th>\n",
       "      <td>tt8553134</td>\n",
       "      <td>Winnerz</td>\n",
       "      <td>Winnerz</td>\n",
       "      <td>2019</td>\n",
       "      <td>180.0</td>\n",
       "      <td>8.5</td>\n",
       "      <td>1035358</td>\n",
       "    </tr>\n",
       "    <tr>\n",
       "      <th>...</th>\n",
       "      <td>...</td>\n",
       "      <td>...</td>\n",
       "      <td>...</td>\n",
       "      <td>...</td>\n",
       "      <td>...</td>\n",
       "      <td>...</td>\n",
       "      <td>...</td>\n",
       "    </tr>\n",
       "    <tr>\n",
       "      <th>History,Sport</th>\n",
       "      <td>tt5903964</td>\n",
       "      <td>The Long Count Teaser</td>\n",
       "      <td>The Long Count Teaser</td>\n",
       "      <td>2016</td>\n",
       "      <td>NaN</td>\n",
       "      <td>9.2</td>\n",
       "      <td>5</td>\n",
       "    </tr>\n",
       "    <tr>\n",
       "      <th>Crime,Western</th>\n",
       "      <td>tt2507106</td>\n",
       "      <td>The Reaping Men</td>\n",
       "      <td>The Reaping Men</td>\n",
       "      <td>2010</td>\n",
       "      <td>105.0</td>\n",
       "      <td>6.4</td>\n",
       "      <td>5</td>\n",
       "    </tr>\n",
       "    <tr>\n",
       "      <th>Horror,Musical,Romance</th>\n",
       "      <td>tt4194328</td>\n",
       "      <td>143 Hyderabad</td>\n",
       "      <td>143 Hyderabad</td>\n",
       "      <td>2013</td>\n",
       "      <td>NaN</td>\n",
       "      <td>5.2</td>\n",
       "      <td>5</td>\n",
       "    </tr>\n",
       "    <tr>\n",
       "      <th>Action,Documentary,Horror</th>\n",
       "      <td>tt4643328</td>\n",
       "      <td>The Toxic Retards</td>\n",
       "      <td>The Toxic Retards</td>\n",
       "      <td>2015</td>\n",
       "      <td>74.0</td>\n",
       "      <td>6.4</td>\n",
       "      <td>5</td>\n",
       "    </tr>\n",
       "    <tr>\n",
       "      <th>Action,Crime,Musical</th>\n",
       "      <td>tt2006036</td>\n",
       "      <td>1 911 Jak Boyz</td>\n",
       "      <td>1 911 Jak Boyz</td>\n",
       "      <td>2011</td>\n",
       "      <td>78.0</td>\n",
       "      <td>4.4</td>\n",
       "      <td>5</td>\n",
       "    </tr>\n",
       "  </tbody>\n",
       "</table>\n",
       "<p>923 rows × 7 columns</p>\n",
       "</div>"
      ],
      "text/plain": [
       "                              tconst                           primary_title  \\\n",
       "genres                                                                         \n",
       "Action,Adventure,Sci-Fi    tt9301884              Zombie Ninjas vs Black Ops   \n",
       "Action,Thriller            tt9479454                     Zombies Have Fallen   \n",
       "Adventure,Drama,Sci-Fi     tt7853292  The V: Sacrifice of the Constellations   \n",
       "Drama,Western              tt9144530               Walden: Life in The Woods   \n",
       "Biography,Crime,Drama      tt8553134                                 Winnerz   \n",
       "...                              ...                                     ...   \n",
       "History,Sport              tt5903964                   The Long Count Teaser   \n",
       "Crime,Western              tt2507106                         The Reaping Men   \n",
       "Horror,Musical,Romance     tt4194328                           143 Hyderabad   \n",
       "Action,Documentary,Horror  tt4643328                       The Toxic Retards   \n",
       "Action,Crime,Musical       tt2006036                          1 911 Jak Boyz   \n",
       "\n",
       "                                                   original_title  start_year  \\\n",
       "genres                                                                          \n",
       "Action,Adventure,Sci-Fi                Zombie Ninjas vs Black Ops        2019   \n",
       "Action,Thriller                                       À l'aveugle        2019   \n",
       "Adventure,Drama,Sci-Fi     The V: Sacrifice of the Constellations        2019   \n",
       "Drama,Western                           Walden: Life in The Woods        2018   \n",
       "Biography,Crime,Drama                                     Winnerz        2019   \n",
       "...                                                           ...         ...   \n",
       "History,Sport                               The Long Count Teaser        2016   \n",
       "Crime,Western                                     The Reaping Men        2010   \n",
       "Horror,Musical,Romance                              143 Hyderabad        2013   \n",
       "Action,Documentary,Horror                       The Toxic Retards        2015   \n",
       "Action,Crime,Musical                               1 911 Jak Boyz        2011   \n",
       "\n",
       "                           runtime_minutes  averagerating  numvotes  \n",
       "genres                                                               \n",
       "Action,Adventure,Sci-Fi              181.0            9.0   1841066  \n",
       "Action,Thriller                      183.0            8.5   1387769  \n",
       "Adventure,Drama,Sci-Fi               169.0            9.2   1299334  \n",
       "Drama,Western                        165.0            8.9   1211405  \n",
       "Biography,Crime,Drama                180.0            8.5   1035358  \n",
       "...                                    ...            ...       ...  \n",
       "History,Sport                          NaN            9.2         5  \n",
       "Crime,Western                        105.0            6.4         5  \n",
       "Horror,Musical,Romance                 NaN            5.2         5  \n",
       "Action,Documentary,Horror             74.0            6.4         5  \n",
       "Action,Crime,Musical                  78.0            4.4         5  \n",
       "\n",
       "[923 rows x 7 columns]"
      ]
     },
     "execution_count": 31,
     "metadata": {},
     "output_type": "execute_result"
    }
   ],
   "source": [
    "# Top rated movies in 2010-2019 based on the max number of votes\n",
    "imdb_numvotes = imdb_title_raiting_basics_df.groupby(['genres']).max().sort_values('numvotes', ascending=False)\n",
    "imdb_numvotes"
   ]
  },
  {
   "cell_type": "code",
   "execution_count": 32,
   "metadata": {
    "scrolled": true
   },
   "outputs": [
    {
     "data": {
      "text/plain": [
       "genres\n",
       "Action,Adventure,Sci-Fi     1841066\n",
       "Action,Thriller             1387769\n",
       "Adventure,Drama,Sci-Fi      1299334\n",
       "Drama,Western               1211405\n",
       "Biography,Crime,Drama       1035358\n",
       "Mystery,Thriller            1005960\n",
       "Action,Adventure,Comedy      948394\n",
       "Action,Adventure,Fantasy     784780\n",
       "Drama,Mystery,Thriller       761592\n",
       "Adventure,Family,Fantasy     719629\n",
       "Name: numvotes, dtype: int64"
      ]
     },
     "execution_count": 32,
     "metadata": {},
     "output_type": "execute_result"
    }
   ],
   "source": [
    "imdb_numvotes.numvotes.iloc[:10]"
   ]
  },
  {
   "cell_type": "code",
   "execution_count": 33,
   "metadata": {
    "scrolled": true
   },
   "outputs": [
    {
     "data": {
      "image/png": "[encoded data removed]",
      "text/plain": [
       "<Figure size 1152x360 with 1 Axes>"
      ]
     },
     "metadata": {
      "needs_background": "light"
     },
     "output_type": "display_data"
    }
   ],
   "source": [
    "fig, ax = plt.subplots(figsize=(16, 5))\n",
    "\n",
    "# Create variables for easier reuse\n",
    "value_counts = imdb_numvotes.numvotes\n",
    "top_10_numvotes = value_counts.iloc[:10]\n",
    "\n",
    "# Plot data\n",
    "ax.bar(top_10_numvotes.index, top_10_numvotes.values)\n",
    "\n",
    "# Customize appearance\n",
    "ax.tick_params(axis=\"x\", labelrotation=80)\n",
    "ax.set_ylabel(\"Count of Votes (in millions)\")\n",
    "ax.set_title(\"Top 10 Most Rated Movie Genres Based on the Highest Number of Votes\");"
   ]
  },
  {
   "cell_type": "code",
   "execution_count": 34,
   "metadata": {
    "scrolled": true
   },
   "outputs": [
    {
     "data": {
      "text/html": [
       "<div>\n",
       "<style scoped>\n",
       "    .dataframe tbody tr th:only-of-type {\n",
       "        vertical-align: middle;\n",
       "    }\n",
       "\n",
       "    .dataframe tbody tr th {\n",
       "        vertical-align: top;\n",
       "    }\n",
       "\n",
       "    .dataframe thead th {\n",
       "        text-align: right;\n",
       "    }\n",
       "</style>\n",
       "<table border=\"1\" class=\"dataframe\">\n",
       "  <thead>\n",
       "    <tr style=\"text-align: right;\">\n",
       "      <th></th>\n",
       "      <th>start_year</th>\n",
       "      <th>runtime_minutes</th>\n",
       "      <th>averagerating</th>\n",
       "      <th>numvotes</th>\n",
       "    </tr>\n",
       "    <tr>\n",
       "      <th>genres</th>\n",
       "      <th></th>\n",
       "      <th></th>\n",
       "      <th></th>\n",
       "      <th></th>\n",
       "    </tr>\n",
       "  </thead>\n",
       "  <tbody>\n",
       "    <tr>\n",
       "      <th>Action,Adventure,Sci-Fi</th>\n",
       "      <td>2014.559055</td>\n",
       "      <td>108.569106</td>\n",
       "      <td>5.655906</td>\n",
       "      <td>181285.417323</td>\n",
       "    </tr>\n",
       "    <tr>\n",
       "      <th>Adventure,Mystery,Sci-Fi</th>\n",
       "      <td>2013.500000</td>\n",
       "      <td>105.500000</td>\n",
       "      <td>5.075000</td>\n",
       "      <td>135042.500000</td>\n",
       "    </tr>\n",
       "    <tr>\n",
       "      <th>Action,Fantasy,War</th>\n",
       "      <td>2016.000000</td>\n",
       "      <td>102.000000</td>\n",
       "      <td>6.400000</td>\n",
       "      <td>131509.000000</td>\n",
       "    </tr>\n",
       "    <tr>\n",
       "      <th>Adventure,Drama,Sci-Fi</th>\n",
       "      <td>2014.800000</td>\n",
       "      <td>104.300000</td>\n",
       "      <td>6.170000</td>\n",
       "      <td>99316.950000</td>\n",
       "    </tr>\n",
       "    <tr>\n",
       "      <th>Action,Adventure,Fantasy</th>\n",
       "      <td>2014.533981</td>\n",
       "      <td>108.320000</td>\n",
       "      <td>5.371845</td>\n",
       "      <td>93775.563107</td>\n",
       "    </tr>\n",
       "    <tr>\n",
       "      <th>Biography,Drama,Thriller</th>\n",
       "      <td>2014.818182</td>\n",
       "      <td>113.238095</td>\n",
       "      <td>6.504545</td>\n",
       "      <td>84506.909091</td>\n",
       "    </tr>\n",
       "    <tr>\n",
       "      <th>Action,Crime,Sci-Fi</th>\n",
       "      <td>2013.500000</td>\n",
       "      <td>105.375000</td>\n",
       "      <td>5.875000</td>\n",
       "      <td>78214.125000</td>\n",
       "    </tr>\n",
       "    <tr>\n",
       "      <th>Action,Adventure,Thriller</th>\n",
       "      <td>2014.240000</td>\n",
       "      <td>110.173913</td>\n",
       "      <td>5.628000</td>\n",
       "      <td>74964.800000</td>\n",
       "    </tr>\n",
       "    <tr>\n",
       "      <th>Action,Adventure,Mystery</th>\n",
       "      <td>2013.545455</td>\n",
       "      <td>106.555556</td>\n",
       "      <td>5.563636</td>\n",
       "      <td>66149.272727</td>\n",
       "    </tr>\n",
       "    <tr>\n",
       "      <th>Family,Fantasy,Musical</th>\n",
       "      <td>2014.750000</td>\n",
       "      <td>106.250000</td>\n",
       "      <td>6.700000</td>\n",
       "      <td>59606.500000</td>\n",
       "    </tr>\n",
       "  </tbody>\n",
       "</table>\n",
       "</div>"
      ],
      "text/plain": [
       "                            start_year  runtime_minutes  averagerating  \\\n",
       "genres                                                                   \n",
       "Action,Adventure,Sci-Fi    2014.559055       108.569106       5.655906   \n",
       "Adventure,Mystery,Sci-Fi   2013.500000       105.500000       5.075000   \n",
       "Action,Fantasy,War         2016.000000       102.000000       6.400000   \n",
       "Adventure,Drama,Sci-Fi     2014.800000       104.300000       6.170000   \n",
       "Action,Adventure,Fantasy   2014.533981       108.320000       5.371845   \n",
       "Biography,Drama,Thriller   2014.818182       113.238095       6.504545   \n",
       "Action,Crime,Sci-Fi        2013.500000       105.375000       5.875000   \n",
       "Action,Adventure,Thriller  2014.240000       110.173913       5.628000   \n",
       "Action,Adventure,Mystery   2013.545455       106.555556       5.563636   \n",
       "Family,Fantasy,Musical     2014.750000       106.250000       6.700000   \n",
       "\n",
       "                                numvotes  \n",
       "genres                                    \n",
       "Action,Adventure,Sci-Fi    181285.417323  \n",
       "Adventure,Mystery,Sci-Fi   135042.500000  \n",
       "Action,Fantasy,War         131509.000000  \n",
       "Adventure,Drama,Sci-Fi      99316.950000  \n",
       "Action,Adventure,Fantasy    93775.563107  \n",
       "Biography,Drama,Thriller    84506.909091  \n",
       "Action,Crime,Sci-Fi         78214.125000  \n",
       "Action,Adventure,Thriller   74964.800000  \n",
       "Action,Adventure,Mystery    66149.272727  \n",
       "Family,Fantasy,Musical      59606.500000  "
      ]
     },
     "execution_count": 34,
     "metadata": {},
     "output_type": "execute_result"
    }
   ],
   "source": [
    "#Most popular movie genres in 2010-2019 based on Average number of votes\n",
    "imdb_numvotes_mean = imdb_title_raiting_basics_df.groupby(['genres']).mean().sort_values('numvotes', ascending=False)\n",
    "imdb_numvotes_mean.iloc[:10]"
   ]
  },
  {
   "cell_type": "code",
   "execution_count": 35,
   "metadata": {},
   "outputs": [
    {
     "data": {
      "image/png": "[encoded data removed]",
      "text/plain": [
       "<Figure size 1152x360 with 1 Axes>"
      ]
     },
     "metadata": {
      "needs_background": "light"
     },
     "output_type": "display_data"
    }
   ],
   "source": [
    "fig, ax = plt.subplots(figsize=(16, 5))\n",
    "\n",
    "# Create variables for easier reuse\n",
    "value_counts = imdb_numvotes_mean.numvotes\n",
    "top_10_numvotes_mean = value_counts.iloc[:10]\n",
    "\n",
    "# Plot data\n",
    "ax.bar(top_10_numvotes_mean.index, top_10_numvotes_mean.values)\n",
    "\n",
    "# Customize appearance\n",
    "ax.tick_params(axis=\"x\", labelrotation=80)\n",
    "ax.set_ylabel(\"Average Count of Votes\")\n",
    "ax.set_title(\"Top 10 Most Rated Movie Genres in 2010-2019 Based on Average Number of Votes\");"
   ]
  },
  {
   "cell_type": "code",
   "execution_count": 36,
   "metadata": {},
   "outputs": [
    {
     "data": {
      "text/html": [
       "<div>\n",
       "<style scoped>\n",
       "    .dataframe tbody tr th:only-of-type {\n",
       "        vertical-align: middle;\n",
       "    }\n",
       "\n",
       "    .dataframe tbody tr th {\n",
       "        vertical-align: top;\n",
       "    }\n",
       "\n",
       "    .dataframe thead th {\n",
       "        text-align: right;\n",
       "    }\n",
       "</style>\n",
       "<table border=\"1\" class=\"dataframe\">\n",
       "  <thead>\n",
       "    <tr style=\"text-align: right;\">\n",
       "      <th></th>\n",
       "      <th>start_year</th>\n",
       "      <th>runtime_minutes</th>\n",
       "      <th>averagerating</th>\n",
       "      <th>numvotes</th>\n",
       "    </tr>\n",
       "    <tr>\n",
       "      <th>genres</th>\n",
       "      <th></th>\n",
       "      <th></th>\n",
       "      <th></th>\n",
       "      <th></th>\n",
       "    </tr>\n",
       "  </thead>\n",
       "  <tbody>\n",
       "    <tr>\n",
       "      <th>Comedy,Documentary,Fantasy</th>\n",
       "      <td>2015.0</td>\n",
       "      <td>70.0</td>\n",
       "      <td>9.4</td>\n",
       "      <td>5.0</td>\n",
       "    </tr>\n",
       "    <tr>\n",
       "      <th>Documentary,Family,Musical</th>\n",
       "      <td>2017.0</td>\n",
       "      <td>59.0</td>\n",
       "      <td>9.3</td>\n",
       "      <td>19.0</td>\n",
       "    </tr>\n",
       "    <tr>\n",
       "      <th>History,Sport</th>\n",
       "      <td>2016.0</td>\n",
       "      <td>NaN</td>\n",
       "      <td>9.2</td>\n",
       "      <td>5.0</td>\n",
       "    </tr>\n",
       "    <tr>\n",
       "      <th>Music,Mystery</th>\n",
       "      <td>2012.0</td>\n",
       "      <td>NaN</td>\n",
       "      <td>9.0</td>\n",
       "      <td>5.0</td>\n",
       "    </tr>\n",
       "    <tr>\n",
       "      <th>Game-Show</th>\n",
       "      <td>2013.0</td>\n",
       "      <td>130.0</td>\n",
       "      <td>9.0</td>\n",
       "      <td>7.0</td>\n",
       "    </tr>\n",
       "    <tr>\n",
       "      <th>Drama,Short</th>\n",
       "      <td>2018.0</td>\n",
       "      <td>18.0</td>\n",
       "      <td>8.8</td>\n",
       "      <td>8.0</td>\n",
       "    </tr>\n",
       "    <tr>\n",
       "      <th>Documentary,News,Sport</th>\n",
       "      <td>2017.0</td>\n",
       "      <td>85.0</td>\n",
       "      <td>8.8</td>\n",
       "      <td>25.0</td>\n",
       "    </tr>\n",
       "    <tr>\n",
       "      <th>Comedy,Drama,Reality-TV</th>\n",
       "      <td>2016.0</td>\n",
       "      <td>NaN</td>\n",
       "      <td>8.8</td>\n",
       "      <td>15.0</td>\n",
       "    </tr>\n",
       "    <tr>\n",
       "      <th>Drama,Fantasy,War</th>\n",
       "      <td>2016.0</td>\n",
       "      <td>NaN</td>\n",
       "      <td>8.8</td>\n",
       "      <td>22.0</td>\n",
       "    </tr>\n",
       "    <tr>\n",
       "      <th>Documentary,News,Reality-TV</th>\n",
       "      <td>2014.0</td>\n",
       "      <td>61.0</td>\n",
       "      <td>8.8</td>\n",
       "      <td>8.0</td>\n",
       "    </tr>\n",
       "  </tbody>\n",
       "</table>\n",
       "</div>"
      ],
      "text/plain": [
       "                             start_year  runtime_minutes  averagerating  \\\n",
       "genres                                                                    \n",
       "Comedy,Documentary,Fantasy       2015.0             70.0            9.4   \n",
       "Documentary,Family,Musical       2017.0             59.0            9.3   \n",
       "History,Sport                    2016.0              NaN            9.2   \n",
       "Music,Mystery                    2012.0              NaN            9.0   \n",
       "Game-Show                        2013.0            130.0            9.0   \n",
       "Drama,Short                      2018.0             18.0            8.8   \n",
       "Documentary,News,Sport           2017.0             85.0            8.8   \n",
       "Comedy,Drama,Reality-TV          2016.0              NaN            8.8   \n",
       "Drama,Fantasy,War                2016.0              NaN            8.8   \n",
       "Documentary,News,Reality-TV      2014.0             61.0            8.8   \n",
       "\n",
       "                             numvotes  \n",
       "genres                                 \n",
       "Comedy,Documentary,Fantasy        5.0  \n",
       "Documentary,Family,Musical       19.0  \n",
       "History,Sport                     5.0  \n",
       "Music,Mystery                     5.0  \n",
       "Game-Show                         7.0  \n",
       "Drama,Short                       8.0  \n",
       "Documentary,News,Sport           25.0  \n",
       "Comedy,Drama,Reality-TV          15.0  \n",
       "Drama,Fantasy,War                22.0  \n",
       "Documentary,News,Reality-TV       8.0  "
      ]
     },
     "execution_count": 36,
     "metadata": {},
     "output_type": "execute_result"
    }
   ],
   "source": [
    "#Highest rated genres based on overall average rating. \n",
    "imdb_highest_rated = imdb_title_raiting_basics_df.groupby(['genres'], sort=False).mean().sort_values('averagerating', ascending=False)\n",
    "imdb_highest_rated.iloc[:10]"
   ]
  },
  {
   "cell_type": "code",
   "execution_count": 37,
   "metadata": {
    "scrolled": true
   },
   "outputs": [
    {
     "data": {
      "image/png": "[encoded data removed]",
      "text/plain": [
       "<Figure size 720x360 with 1 Axes>"
      ]
     },
     "metadata": {
      "needs_background": "light"
     },
     "output_type": "display_data"
    }
   ],
   "source": [
    "fig, ax = plt.subplots(figsize=(10, 5))\n",
    "\n",
    "# Create variables for easier reuse\n",
    "value_counts = imdb_highest_rated.averagerating\n",
    "top_10_highest_rating = value_counts.iloc[:10]\n",
    "\n",
    "# Plot data\n",
    "ax.bar(top_10_highest_rating.index, top_10_highest_rating.values)\n",
    "\n",
    "# Customize appearance\n",
    "ax.tick_params(axis=\"x\", labelrotation=80)\n",
    "ax.set_ylabel(\"Average Rating\")\n",
    "ax.set_title(\"Top 10 Highest Rated Movie Genres 2010-2019\");\n"
   ]
  },
  {
   "cell_type": "code",
   "execution_count": 38,
   "metadata": {
    "scrolled": false
   },
   "outputs": [
    {
     "data": {
      "image/png": "[encoded data removed]",
      "text/plain": [
       "<Figure size 1152x360 with 1 Axes>"
      ]
     },
     "metadata": {
      "needs_background": "light"
     },
     "output_type": "display_data"
    }
   ],
   "source": [
    "# Correlation between average rating and number of votes \n",
    "fig, ax = plt.subplots(figsize=(16, 5))\n",
    "\n",
    "# Create variables for easier reuse\n",
    "value_counts = imdb_title_raiting_basics_df\n",
    "#top_20_highest_rating = value_counts.iloc[:20]\n",
    "\n",
    "# Plot data\n",
    "ax.scatter(x = imdb_title_raiting_basics_df.averagerating, y = imdb_title_raiting_basics_df.numvotes)\n",
    "\n",
    "# Customize appearance\n",
    "ax.tick_params(axis=\"x\", labelrotation=0)\n",
    "ax.set_xlabel(\"Average Rating\")\n",
    "ax.set_ylabel(\"Number of Votes\")\n",
    "ax.set_title(\"Correlation between Number of Votes and Average Rating\");"
   ]
  },
  {
   "cell_type": "code",
   "execution_count": 39,
   "metadata": {
    "scrolled": true
   },
   "outputs": [
    {
     "data": {
      "image/png": "[encoded data removed]",
      "text/plain": [
       "<Figure size 421.5x360 with 1 Axes>"
      ]
     },
     "metadata": {
      "needs_background": "light"
     },
     "output_type": "display_data"
    }
   ],
   "source": [
    "sns.lmplot(x=\"numvotes\", y=\"averagerating\", hue=\"start_year\", data=imdb_df_over_100_votes);"
   ]
  },
  {
   "cell_type": "code",
   "execution_count": 40,
   "metadata": {},
   "outputs": [
    {
     "data": {
      "image/png": "[encoded data removed]",
      "text/plain": [
       "<Figure size 1152x864 with 10 Axes>"
      ]
     },
     "metadata": {
      "needs_background": "light"
     },
     "output_type": "display_data"
    }
   ],
   "source": [
    "sns.lmplot(x=\"numvotes\", y=\"averagerating\", col=\"start_year\", data=imdb_df_over_100_votes,\n",
    "           col_wrap=4, height=4);"
   ]
  },
  {
   "cell_type": "code",
   "execution_count": 41,
   "metadata": {
    "scrolled": true
   },
   "outputs": [
    {
     "data": {
      "text/html": [
       "<div>\n",
       "<style scoped>\n",
       "    .dataframe tbody tr th:only-of-type {\n",
       "        vertical-align: middle;\n",
       "    }\n",
       "\n",
       "    .dataframe tbody tr th {\n",
       "        vertical-align: top;\n",
       "    }\n",
       "\n",
       "    .dataframe thead th {\n",
       "        text-align: right;\n",
       "    }\n",
       "</style>\n",
       "<table border=\"1\" class=\"dataframe\">\n",
       "  <thead>\n",
       "    <tr style=\"text-align: right;\">\n",
       "      <th></th>\n",
       "      <th>start_year</th>\n",
       "      <th>runtime_minutes</th>\n",
       "      <th>averagerating</th>\n",
       "      <th>numvotes</th>\n",
       "    </tr>\n",
       "  </thead>\n",
       "  <tbody>\n",
       "    <tr>\n",
       "      <th>start_year</th>\n",
       "      <td>1.000000</td>\n",
       "      <td>0.062926</td>\n",
       "      <td>0.036094</td>\n",
       "      <td>-0.045646</td>\n",
       "    </tr>\n",
       "    <tr>\n",
       "      <th>runtime_minutes</th>\n",
       "      <td>0.062926</td>\n",
       "      <td>1.000000</td>\n",
       "      <td>0.203918</td>\n",
       "      <td>0.122532</td>\n",
       "    </tr>\n",
       "    <tr>\n",
       "      <th>averagerating</th>\n",
       "      <td>0.036094</td>\n",
       "      <td>0.203918</td>\n",
       "      <td>1.000000</td>\n",
       "      <td>0.137307</td>\n",
       "    </tr>\n",
       "    <tr>\n",
       "      <th>numvotes</th>\n",
       "      <td>-0.045646</td>\n",
       "      <td>0.122532</td>\n",
       "      <td>0.137307</td>\n",
       "      <td>1.000000</td>\n",
       "    </tr>\n",
       "  </tbody>\n",
       "</table>\n",
       "</div>"
      ],
      "text/plain": [
       "                 start_year  runtime_minutes  averagerating  numvotes\n",
       "start_year         1.000000         0.062926       0.036094 -0.045646\n",
       "runtime_minutes    0.062926         1.000000       0.203918  0.122532\n",
       "averagerating      0.036094         0.203918       1.000000  0.137307\n",
       "numvotes          -0.045646         0.122532       0.137307  1.000000"
      ]
     },
     "execution_count": 41,
     "metadata": {},
     "output_type": "execute_result"
    }
   ],
   "source": [
    "# Pearson Correlation\n",
    "imdb_df_over_100_votes.corr()"
   ]
  },
  {
   "cell_type": "markdown",
   "metadata": {},
   "source": [
    "## It appears that there is little positive correlation between number of votes and average rating. \n"
   ]
  },
  {
   "cell_type": "code",
   "execution_count": 42,
   "metadata": {
    "scrolled": true
   },
   "outputs": [
    {
     "data": {
      "text/html": [
       "<div>\n",
       "<style scoped>\n",
       "    .dataframe tbody tr th:only-of-type {\n",
       "        vertical-align: middle;\n",
       "    }\n",
       "\n",
       "    .dataframe tbody tr th {\n",
       "        vertical-align: top;\n",
       "    }\n",
       "\n",
       "    .dataframe thead th {\n",
       "        text-align: right;\n",
       "    }\n",
       "</style>\n",
       "<table border=\"1\" class=\"dataframe\">\n",
       "  <thead>\n",
       "    <tr style=\"text-align: right;\">\n",
       "      <th></th>\n",
       "      <th></th>\n",
       "      <th>runtime_minutes</th>\n",
       "      <th>averagerating</th>\n",
       "      <th>numvotes</th>\n",
       "    </tr>\n",
       "    <tr>\n",
       "      <th>start_year</th>\n",
       "      <th>genres</th>\n",
       "      <th></th>\n",
       "      <th></th>\n",
       "      <th></th>\n",
       "    </tr>\n",
       "  </thead>\n",
       "  <tbody>\n",
       "    <tr>\n",
       "      <th rowspan=\"2\" valign=\"top\">2019</th>\n",
       "      <th>Biography,Documentary,Drama</th>\n",
       "      <td>NaN</td>\n",
       "      <td>9.8</td>\n",
       "      <td>28.0</td>\n",
       "    </tr>\n",
       "    <tr>\n",
       "      <th>Comedy,Documentary,Sport</th>\n",
       "      <td>NaN</td>\n",
       "      <td>9.7</td>\n",
       "      <td>22.0</td>\n",
       "    </tr>\n",
       "    <tr>\n",
       "      <th>2010</th>\n",
       "      <th>Documentary,Family,Romance</th>\n",
       "      <td>10.0</td>\n",
       "      <td>9.7</td>\n",
       "      <td>25.0</td>\n",
       "    </tr>\n",
       "    <tr>\n",
       "      <th>2019</th>\n",
       "      <th>Documentary,Drama,Sport</th>\n",
       "      <td>75.0</td>\n",
       "      <td>9.6</td>\n",
       "      <td>12.0</td>\n",
       "    </tr>\n",
       "    <tr>\n",
       "      <th>2017</th>\n",
       "      <th>Documentary,Musical</th>\n",
       "      <td>4.0</td>\n",
       "      <td>9.4</td>\n",
       "      <td>5.0</td>\n",
       "    </tr>\n",
       "    <tr>\n",
       "      <th>2016</th>\n",
       "      <th>Action,Documentary</th>\n",
       "      <td>88.0</td>\n",
       "      <td>9.4</td>\n",
       "      <td>5.0</td>\n",
       "    </tr>\n",
       "    <tr>\n",
       "      <th>2015</th>\n",
       "      <th>Comedy,Documentary,Fantasy</th>\n",
       "      <td>70.0</td>\n",
       "      <td>9.4</td>\n",
       "      <td>5.0</td>\n",
       "    </tr>\n",
       "    <tr>\n",
       "      <th>2016</th>\n",
       "      <th>Crime,Documentary,News</th>\n",
       "      <td>89.0</td>\n",
       "      <td>9.4</td>\n",
       "      <td>12.0</td>\n",
       "    </tr>\n",
       "    <tr>\n",
       "      <th>2018</th>\n",
       "      <th>Action,Documentary</th>\n",
       "      <td>96.0</td>\n",
       "      <td>9.4</td>\n",
       "      <td>21.0</td>\n",
       "    </tr>\n",
       "    <tr>\n",
       "      <th>2012</th>\n",
       "      <th>Action,Documentary,Sport</th>\n",
       "      <td>70.0</td>\n",
       "      <td>9.3</td>\n",
       "      <td>7.0</td>\n",
       "    </tr>\n",
       "  </tbody>\n",
       "</table>\n",
       "</div>"
      ],
      "text/plain": [
       "                                        runtime_minutes  averagerating  \\\n",
       "start_year genres                                                        \n",
       "2019       Biography,Documentary,Drama              NaN            9.8   \n",
       "           Comedy,Documentary,Sport                 NaN            9.7   \n",
       "2010       Documentary,Family,Romance              10.0            9.7   \n",
       "2019       Documentary,Drama,Sport                 75.0            9.6   \n",
       "2017       Documentary,Musical                      4.0            9.4   \n",
       "2016       Action,Documentary                      88.0            9.4   \n",
       "2015       Comedy,Documentary,Fantasy              70.0            9.4   \n",
       "2016       Crime,Documentary,News                  89.0            9.4   \n",
       "2018       Action,Documentary                      96.0            9.4   \n",
       "2012       Action,Documentary,Sport                70.0            9.3   \n",
       "\n",
       "                                        numvotes  \n",
       "start_year genres                                 \n",
       "2019       Biography,Documentary,Drama      28.0  \n",
       "           Comedy,Documentary,Sport         22.0  \n",
       "2010       Documentary,Family,Romance       25.0  \n",
       "2019       Documentary,Drama,Sport          12.0  \n",
       "2017       Documentary,Musical               5.0  \n",
       "2016       Action,Documentary                5.0  \n",
       "2015       Comedy,Documentary,Fantasy        5.0  \n",
       "2016       Crime,Documentary,News           12.0  \n",
       "2018       Action,Documentary               21.0  \n",
       "2012       Action,Documentary,Sport          7.0  "
      ]
     },
     "execution_count": 42,
     "metadata": {},
     "output_type": "execute_result"
    }
   ],
   "source": [
    "# the highest rated genres per year\n",
    "imdb_highest_rated_per_year = imdb_title_raiting_basics_df.groupby(['start_year', 'genres']).mean()\\\n",
    "                                .sort_values('averagerating', ascending=False)\n",
    "imdb_highest_rated_per_year.iloc[:10]"
   ]
  },
  {
   "cell_type": "code",
   "execution_count": 43,
   "metadata": {
    "scrolled": true
   },
   "outputs": [
    {
     "data": {
      "text/html": [
       "<div>\n",
       "<style scoped>\n",
       "    .dataframe tbody tr th:only-of-type {\n",
       "        vertical-align: middle;\n",
       "    }\n",
       "\n",
       "    .dataframe tbody tr th {\n",
       "        vertical-align: top;\n",
       "    }\n",
       "\n",
       "    .dataframe thead th {\n",
       "        text-align: right;\n",
       "    }\n",
       "</style>\n",
       "<table border=\"1\" class=\"dataframe\">\n",
       "  <thead>\n",
       "    <tr style=\"text-align: right;\">\n",
       "      <th></th>\n",
       "      <th></th>\n",
       "      <th>runtime_minutes</th>\n",
       "      <th>averagerating</th>\n",
       "      <th>numvotes</th>\n",
       "    </tr>\n",
       "    <tr>\n",
       "      <th>start_year</th>\n",
       "      <th>genres</th>\n",
       "      <th></th>\n",
       "      <th></th>\n",
       "      <th></th>\n",
       "    </tr>\n",
       "  </thead>\n",
       "  <tbody>\n",
       "    <tr>\n",
       "      <th rowspan=\"2\" valign=\"top\">2012</th>\n",
       "      <th>Adventure,Mystery,Sci-Fi</th>\n",
       "      <td>124.000000</td>\n",
       "      <td>7.000000</td>\n",
       "      <td>538720.000000</td>\n",
       "    </tr>\n",
       "    <tr>\n",
       "      <th>Biography,Drama,Thriller</th>\n",
       "      <td>120.000000</td>\n",
       "      <td>7.700000</td>\n",
       "      <td>534683.000000</td>\n",
       "    </tr>\n",
       "    <tr>\n",
       "      <th>2010</th>\n",
       "      <th>Animation,Comedy,Family</th>\n",
       "      <td>95.000000</td>\n",
       "      <td>7.700000</td>\n",
       "      <td>464511.000000</td>\n",
       "    </tr>\n",
       "    <tr>\n",
       "      <th>2014</th>\n",
       "      <th>Adventure,Drama,Sci-Fi</th>\n",
       "      <td>109.666667</td>\n",
       "      <td>6.633333</td>\n",
       "      <td>433136.666667</td>\n",
       "    </tr>\n",
       "    <tr>\n",
       "      <th>2012</th>\n",
       "      <th>Action,Adventure,Sci-Fi</th>\n",
       "      <td>119.625000</td>\n",
       "      <td>6.187500</td>\n",
       "      <td>371700.625000</td>\n",
       "    </tr>\n",
       "    <tr>\n",
       "      <th>2014</th>\n",
       "      <th>Biography,Drama,Thriller</th>\n",
       "      <td>101.500000</td>\n",
       "      <td>6.700000</td>\n",
       "      <td>310646.500000</td>\n",
       "    </tr>\n",
       "    <tr>\n",
       "      <th>2011</th>\n",
       "      <th>Action,Drama,Sci-Fi</th>\n",
       "      <td>94.333333</td>\n",
       "      <td>6.133333</td>\n",
       "      <td>308612.666667</td>\n",
       "    </tr>\n",
       "    <tr>\n",
       "      <th>2012</th>\n",
       "      <th>Drama,History,Musical</th>\n",
       "      <td>158.000000</td>\n",
       "      <td>7.600000</td>\n",
       "      <td>285971.000000</td>\n",
       "    </tr>\n",
       "    <tr>\n",
       "      <th rowspan=\"2\" valign=\"top\">2010</th>\n",
       "      <th>Adventure,Drama,Western</th>\n",
       "      <td>110.000000</td>\n",
       "      <td>7.600000</td>\n",
       "      <td>284034.000000</td>\n",
       "    </tr>\n",
       "    <tr>\n",
       "      <th>Action,Adventure,Sci-Fi</th>\n",
       "      <td>100.400000</td>\n",
       "      <td>6.150000</td>\n",
       "      <td>269994.000000</td>\n",
       "    </tr>\n",
       "  </tbody>\n",
       "</table>\n",
       "</div>"
      ],
      "text/plain": [
       "                                     runtime_minutes  averagerating  \\\n",
       "start_year genres                                                     \n",
       "2012       Adventure,Mystery,Sci-Fi       124.000000       7.000000   \n",
       "           Biography,Drama,Thriller       120.000000       7.700000   \n",
       "2010       Animation,Comedy,Family         95.000000       7.700000   \n",
       "2014       Adventure,Drama,Sci-Fi         109.666667       6.633333   \n",
       "2012       Action,Adventure,Sci-Fi        119.625000       6.187500   \n",
       "2014       Biography,Drama,Thriller       101.500000       6.700000   \n",
       "2011       Action,Drama,Sci-Fi             94.333333       6.133333   \n",
       "2012       Drama,History,Musical          158.000000       7.600000   \n",
       "2010       Adventure,Drama,Western        110.000000       7.600000   \n",
       "           Action,Adventure,Sci-Fi        100.400000       6.150000   \n",
       "\n",
       "                                          numvotes  \n",
       "start_year genres                                   \n",
       "2012       Adventure,Mystery,Sci-Fi  538720.000000  \n",
       "           Biography,Drama,Thriller  534683.000000  \n",
       "2010       Animation,Comedy,Family   464511.000000  \n",
       "2014       Adventure,Drama,Sci-Fi    433136.666667  \n",
       "2012       Action,Adventure,Sci-Fi   371700.625000  \n",
       "2014       Biography,Drama,Thriller  310646.500000  \n",
       "2011       Action,Drama,Sci-Fi       308612.666667  \n",
       "2012       Drama,History,Musical     285971.000000  \n",
       "2010       Adventure,Drama,Western   284034.000000  \n",
       "           Action,Adventure,Sci-Fi   269994.000000  "
      ]
     },
     "execution_count": 43,
     "metadata": {},
     "output_type": "execute_result"
    }
   ],
   "source": [
    "# most rated genres per year (aka most watched)\n",
    "imdb_highest_rated_per_year = imdb_title_raiting_basics_df.groupby(['start_year', 'genres']).mean()\\\n",
    "                                .sort_values('numvotes', ascending=False)\n",
    "imdb_highest_rated_per_year.iloc[:10]"
   ]
  },
  {
   "cell_type": "code",
   "execution_count": null,
   "metadata": {},
   "outputs": [],
   "source": []
  },
  {
   "cell_type": "markdown",
   "metadata": {},
   "source": [
    "## Evaluation\n",
    "Evaluate how well your work solves the stated business problem.\n",
    "\n",
    "***\n",
    "Questions to consider:\n",
    "* How do you interpret the results?\n",
    "* How well does your model fit your data? How much better is this than your baseline model?\n",
    "* How confident are you that your results would generalize beyond the data you have?\n",
    "* How confident are you that this model would benefit the business if put into use?\n",
    "***"
   ]
  },
  {
   "cell_type": "markdown",
   "metadata": {},
   "source": [
    "## Conclusions\n",
    "Provide your conclusions about the work you've done, including any limitations or next steps.\n",
    "\n",
    "***\n",
    "Questions to consider:\n",
    "* What would you recommend the business do as a result of this work?\n",
    "* What are some reasons why your analysis might not fully solve the business problem?\n",
    "* What else could you do in the future to improve this project?\n",
    "***"
   ]
  }
 ],
 "metadata": {
  "kernelspec": {
   "display_name": "Python 3",
   "language": "python",
   "name": "python3"
  },
  "language_info": {
   "codemirror_mode": {
    "name": "ipython",
    "version": 3
   },
   "file_extension": ".py",
   "mimetype": "text/x-python",
   "name": "python",
   "nbconvert_exporter": "python",
   "pygments_lexer": "ipython3",
   "version": "3.8.5"
  }
 },
 "nbformat": 4,
 "nbformat_minor": 4
}
